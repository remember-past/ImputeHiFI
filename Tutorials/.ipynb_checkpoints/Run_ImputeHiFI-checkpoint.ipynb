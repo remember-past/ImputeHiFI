{
 "cells": [
  {
   "cell_type": "markdown",
   "id": "b747e935",
   "metadata": {},
   "source": [
    "# init"
   ]
  },
  {
   "cell_type": "markdown",
   "id": "17f4f1c5",
   "metadata": {},
   "source": [
    "## import package"
   ]
  },
  {
   "cell_type": "code",
   "execution_count": 1,
   "id": "455cbcbc",
   "metadata": {
    "ExecuteTime": {
     "end_time": "2024-04-27T13:25:03.599948Z",
     "start_time": "2024-04-27T13:25:01.778871Z"
    }
   },
   "outputs": [],
   "source": [
    "import os\n",
    "import time\n",
    "from subprocess import  call\n",
    "import numpy as np\n",
    "import pandas as pd\n",
    "import seaborn as sns\n",
    "from scipy import stats\n",
    "import seaborn as sns\n",
    "import matplotlib.pyplot as plt\n",
    "import scipy as sc\n",
    "from matplotlib.colors import ListedColormap\n",
    "import scipy.sparse as sparse\n",
    "import importlib\n",
    "import copy\n",
    "import gc\n",
    "import datetime\n",
    "from scipy.stats import zscore\n",
    "import sys\n",
    "import scipy.stats as st\n",
    "import math\n",
    "from scipy import optimize\n",
    "from tqdm.notebook import tqdm\n",
    "from scipy.spatial.distance import pdist, squareform\n",
    "import scanpy as sc"
   ]
  },
  {
   "cell_type": "markdown",
   "id": "9f095ad4",
   "metadata": {},
   "source": [
    "## import function"
   ]
  },
  {
   "cell_type": "code",
   "execution_count": 2,
   "id": "80ea5ffb",
   "metadata": {
    "ExecuteTime": {
     "end_time": "2024-04-27T13:25:03.717151Z",
     "start_time": "2024-04-27T13:25:03.602194Z"
    }
   },
   "outputs": [
    {
     "data": {
      "text/plain": [
       "<module 'image_project.function_basic' from '/mnt/disk1/scfan/program/image_project/function_basic.py'>"
      ]
     },
     "execution_count": 2,
     "metadata": {},
     "output_type": "execute_result"
    },
    {
     "name": "stdout",
     "output_type": "stream",
     "text": [
      "v5 similar FISH\n"
     ]
    }
   ],
   "source": [
    "src_dir=r\"/Path/to/ImputeHiFI/src\"\n",
    "sys.path.append(src_dir)\n",
    "from function_basic import basic_function as basic\n",
    "\n",
    "import ImputeHiFI_Algorithm as ImputeHiFI\n",
    "import ImputeHiFI_Algorithm_no_HiC as ImputeHiFI_no_HiC"
   ]
  },
  {
   "cell_type": "markdown",
   "id": "ac941f99",
   "metadata": {},
   "source": [
    "## path"
   ]
  },
  {
   "cell_type": "code",
   "execution_count": 4,
   "id": "1971de55",
   "metadata": {
    "ExecuteTime": {
     "end_time": "2024-04-27T13:27:19.727320Z",
     "start_time": "2024-04-27T13:27:19.721953Z"
    }
   },
   "outputs": [],
   "source": [
    "data_dir=r\"/mnt/disk1/scfan/data/Cai_21_Nature\""
   ]
  },
  {
   "cell_type": "markdown",
   "id": "37222ed4",
   "metadata": {},
   "source": [
    "# prepare data"
   ]
  },
  {
   "cell_type": "markdown",
   "id": "483c9b5e",
   "metadata": {},
   "source": [
    "## load data_pkl"
   ]
  },
  {
   "cell_type": "code",
   "execution_count": 45,
   "id": "89763c12",
   "metadata": {
    "ExecuteTime": {
     "end_time": "2024-04-27T13:41:13.322245Z",
     "start_time": "2024-04-27T13:41:13.149028Z"
    },
    "scrolled": true
   },
   "outputs": [],
   "source": [
    "data_pkl_path=os.path.join(data_dir,\"DNA_25kb\",r\"align_name_with_RNA_data.pkl\")\n",
    "data=basic.load_variable_from_pikle_file(data_pkl_path)"
   ]
  },
  {
   "cell_type": "code",
   "execution_count": 46,
   "id": "6d23af94",
   "metadata": {
    "ExecuteTime": {
     "end_time": "2024-04-27T13:41:13.328430Z",
     "start_time": "2024-04-27T13:41:13.324859Z"
    }
   },
   "outputs": [],
   "source": [
    "current_probe_data_dir=r\"/mnt/disk1/scfan/data/Cai_21_Nature/DNA_25kb\""
   ]
  },
  {
   "cell_type": "code",
   "execution_count": 47,
   "id": "738ea876",
   "metadata": {
    "ExecuteTime": {
     "end_time": "2024-04-27T13:41:13.333731Z",
     "start_time": "2024-04-27T13:41:13.329892Z"
    }
   },
   "outputs": [],
   "source": [
    "first_seen_probe_data_dir=r\"/mnt/disk1/scfan/data/Cai_21_Nature/DNA_25kb/Impute/\"\n",
    "basic.recursive_mkdir(first_seen_probe_data_dir)"
   ]
  },
  {
   "cell_type": "code",
   "execution_count": 89,
   "id": "fc3a93d8",
   "metadata": {
    "ExecuteTime": {
     "end_time": "2024-04-27T13:54:22.609718Z",
     "start_time": "2024-04-27T13:54:22.573785Z"
    }
   },
   "outputs": [],
   "source": [
    "RNA_FISH_adata_path=os.path.join(data_dir, 'RNA', 'RNA_adata.h5ad')\n",
    "RNA_FISH_adata=sc.read(RNA_FISH_adata_path)"
   ]
  },
  {
   "cell_type": "code",
   "execution_count": 49,
   "id": "8468919a",
   "metadata": {
    "ExecuteTime": {
     "end_time": "2024-04-27T13:41:13.358985Z",
     "start_time": "2024-04-27T13:41:13.356023Z"
    }
   },
   "outputs": [],
   "source": [
    "ImputeHiFI_data_dir=os.path.join(first_seen_probe_data_dir,'ImputeHiFI')\n",
    "basic.recursive_mkdir(ImputeHiFI_data_dir)"
   ]
  },
  {
   "cell_type": "markdown",
   "id": "4f656277",
   "metadata": {},
   "source": [
    "## generate max_not_missing_data"
   ]
  },
  {
   "cell_type": "code",
   "execution_count": 10,
   "id": "4902bd27",
   "metadata": {
    "ExecuteTime": {
     "end_time": "2024-04-27T13:27:34.123667Z",
     "start_time": "2024-04-27T13:27:34.116377Z"
    }
   },
   "outputs": [
    {
     "data": {
      "text/plain": [
       "dict_keys(['chrom_ids', 'region_names', 'start_position', 'end_position', 'mid_position', 'mid_position_Mb', 'dna_zxys', 'chrom_name', 'gene_ID', 'cluster_label', 'cluster_label_name'])"
      ]
     },
     "execution_count": 10,
     "metadata": {},
     "output_type": "execute_result"
    }
   ],
   "source": [
    "data.keys()"
   ]
  },
  {
   "cell_type": "code",
   "execution_count": 50,
   "id": "a4831a62",
   "metadata": {
    "ExecuteTime": {
     "end_time": "2024-04-27T13:41:16.565575Z",
     "start_time": "2024-04-27T13:41:16.551906Z"
    }
   },
   "outputs": [],
   "source": [
    "chrom_ids_to_index_dict = {}\n",
    "cell_name_list=[]\n",
    "for index, chrom_ids in enumerate(data['chrom_ids']):\n",
    "    chrom_ids_to_index_dict[str(chrom_ids)] = index\n",
    "    cell_name_list.append(str(chrom_ids))\n",
    "cell_name_array=np.array(cell_name_list)\n",
    "chrom_index_to_ids_dict = {index: chrom_id for chrom_id, index in chrom_ids_to_index_dict.items()}\n",
    "chr_name_list = data['chrom_name'][0:20]    "
   ]
  },
  {
   "cell_type": "code",
   "execution_count": 14,
   "id": "154fd282",
   "metadata": {
    "ExecuteTime": {
     "end_time": "2024-04-27T13:28:15.168392Z",
     "start_time": "2024-04-27T13:28:15.163553Z"
    }
   },
   "outputs": [],
   "source": [
    "all_cell_dna_list=data['dna_zxys']"
   ]
  },
  {
   "cell_type": "code",
   "execution_count": 15,
   "id": "6a20038a",
   "metadata": {
    "ExecuteTime": {
     "end_time": "2024-04-27T13:28:21.041681Z",
     "start_time": "2024-04-27T13:28:20.693683Z"
    }
   },
   "outputs": [],
   "source": [
    "num_cells = len(chrom_ids_to_index_dict)\n",
    "num_chromosomes = len(chr_name_list)\n",
    "\n",
    "len_num = 60\n",
    "\n",
    "# 初始化结构，每个cell有一个列表，列表中有num_chromosomes个元素\n",
    "max_all_cell_dna_list = [[] for _ in range(num_cells)]\n",
    "min_all_cell_dna_list = [[] for _ in range(num_cells)]\n",
    "max_all_cell_dna_list_not_missing_rate = [[] for _ in range(num_cells)]\n",
    "min_all_cell_dna_list_not_missing_rate = [[] for _ in range(num_cells)]\n",
    "choice_list = [[] for _ in range(num_cells)]  # 新增列表用于记录选择的是0还是1\n",
    "\n",
    "# 遍历每个cell和其对应的染色体\n",
    "for cell_index, (one_cell_name, one_cell_ids) in enumerate(chrom_ids_to_index_dict.items()):\n",
    "    for chr_ids, chr_name in enumerate(chr_name_list):\n",
    "        # 计算非缺失率\n",
    "        not_nan_sum_0 = np.sum(~np.isnan(all_cell_dna_list[one_cell_ids][chr_ids][0])[:, 0])\n",
    "        not_nan_sum_1 = np.sum(~np.isnan(all_cell_dna_list[one_cell_ids][chr_ids][1])[:, 0])\n",
    "        not_missing_rate_0 = not_nan_sum_0 / len_num\n",
    "        not_missing_rate_1 = not_nan_sum_1 / len_num\n",
    "\n",
    "        # 根据非缺失率将数据存储到max或min列表中，并记录选择\n",
    "        if not_missing_rate_0 > not_missing_rate_1:\n",
    "            max_all_cell_dna_list[cell_index].append(all_cell_dna_list[one_cell_ids][chr_ids][0])\n",
    "            max_all_cell_dna_list_not_missing_rate[cell_index].append(not_missing_rate_0)\n",
    "            min_all_cell_dna_list[cell_index].append(all_cell_dna_list[one_cell_ids][chr_ids][1])\n",
    "            min_all_cell_dna_list_not_missing_rate[cell_index].append(not_missing_rate_1)\n",
    "            choice_list[cell_index].append(0)\n",
    "        else:\n",
    "            max_all_cell_dna_list[cell_index].append(all_cell_dna_list[one_cell_ids][chr_ids][1])\n",
    "            max_all_cell_dna_list_not_missing_rate[cell_index].append(not_missing_rate_1)\n",
    "            min_all_cell_dna_list[cell_index].append(all_cell_dna_list[one_cell_ids][chr_ids][0])\n",
    "            min_all_cell_dna_list_not_missing_rate[cell_index].append(not_missing_rate_0)\n",
    "            choice_list[cell_index].append(1)\n"
   ]
  },
  {
   "cell_type": "markdown",
   "id": "28559bfb",
   "metadata": {},
   "source": [
    "### store have_max_min_info_data"
   ]
  },
  {
   "cell_type": "code",
   "execution_count": 51,
   "id": "147f6502",
   "metadata": {
    "ExecuteTime": {
     "end_time": "2024-04-27T13:41:30.159889Z",
     "start_time": "2024-04-27T13:41:28.445828Z"
    }
   },
   "outputs": [],
   "source": [
    "import copy\n",
    "\n",
    "# 创建data的深拷贝\n",
    "have_max_min_info_data = copy.deepcopy(data)\n",
    "\n",
    "# 将计算出来的信息添加到have_max_min_info_data字典中\n",
    "have_max_min_info_data['max_all_cell_dna_list'] = max_all_cell_dna_list\n",
    "have_max_min_info_data['min_all_cell_dna_list'] = min_all_cell_dna_list\n",
    "have_max_min_info_data['max_all_cell_dna_list_not_missing_rate'] = max_all_cell_dna_list_not_missing_rate\n",
    "have_max_min_info_data['min_all_cell_dna_list_not_missing_rate'] = min_all_cell_dna_list_not_missing_rate\n",
    "have_max_min_info_data['choice_list'] = choice_list\n",
    "\n",
    "# 现在have_max_min_info_data包含了原始数据以及新计算出来的信息\n",
    "temp_path=os.path.join(current_probe_data_dir,r\"have_max_min_info_data.pkl\")\n",
    "basic.store_variable_from_pikle_file(temp_path,have_max_min_info_data)"
   ]
  },
  {
   "cell_type": "markdown",
   "id": "0762cef7",
   "metadata": {},
   "source": [
    "## generate first seen probe data"
   ]
  },
  {
   "cell_type": "code",
   "execution_count": 52,
   "id": "dfedca01",
   "metadata": {
    "ExecuteTime": {
     "end_time": "2024-04-27T13:41:33.976940Z",
     "start_time": "2024-04-27T13:41:33.772996Z"
    }
   },
   "outputs": [],
   "source": [
    "first_seen_probe_data=copy.deepcopy(data)"
   ]
  },
  {
   "cell_type": "code",
   "execution_count": 53,
   "id": "8107945f",
   "metadata": {
    "ExecuteTime": {
     "end_time": "2024-04-27T13:41:35.953966Z",
     "start_time": "2024-04-27T13:41:35.948120Z"
    }
   },
   "outputs": [],
   "source": [
    "first_seen_probe_data['all_cell_dna_list']=max_all_cell_dna_list"
   ]
  },
  {
   "cell_type": "code",
   "execution_count": 54,
   "id": "13cff99b",
   "metadata": {
    "ExecuteTime": {
     "end_time": "2024-04-27T13:41:36.900102Z",
     "start_time": "2024-04-27T13:41:36.892888Z"
    }
   },
   "outputs": [],
   "source": [
    "first_seen_probe_data['chrom_ids_to_index_dict']=chrom_ids_to_index_dict\n",
    "\n",
    "first_seen_probe_data['chrom_index_to_ids_dict']=chrom_index_to_ids_dict\n",
    "first_seen_probe_data['chr_name_list']=chr_name_list\n",
    "first_seen_probe_data['cell_name_array']=cell_name_array\n",
    "first_seen_probe_data['cell_name_list']=cell_name_list"
   ]
  },
  {
   "cell_type": "markdown",
   "id": "fc4dbfff",
   "metadata": {},
   "source": [
    "### each_chr_missing_rate_df"
   ]
  },
  {
   "cell_type": "code",
   "execution_count": 55,
   "id": "7fe09644",
   "metadata": {
    "ExecuteTime": {
     "end_time": "2024-04-27T13:41:49.703211Z",
     "start_time": "2024-04-27T13:41:49.502732Z"
    }
   },
   "outputs": [
    {
     "name": "stderr",
     "output_type": "stream",
     "text": [
      "1143it [00:00, 7138.98it/s]\n"
     ]
    }
   ],
   "source": [
    "from tqdm import tqdm\n",
    "\n",
    "# 初始化存储结果的列表\n",
    "result_list = []\n",
    "\n",
    "# 使用tqdm库来显示进度条\n",
    "for cell_index, (one_cell_name, one_cell_ids) in tqdm(enumerate(chrom_ids_to_index_dict.items())):\n",
    "    for chr_index, chr_name in enumerate(chr_name_list):\n",
    "        # 获取当前cell和染色体的DNA数据\n",
    "        dna_data = max_all_cell_dna_list[cell_index][chr_index]\n",
    "        \n",
    "        # 计算总探针数量和NaN探针数量\n",
    "        total_probe_number = len(dna_data)\n",
    "        nan_probe_number = np.sum(np.isnan(dna_data)[:,0])\n",
    "        \n",
    "        # 计算缺失率\n",
    "        missing_rate = nan_probe_number / total_probe_number if total_probe_number else np.nan\n",
    "        \n",
    "        # 将结果存储到列表中\n",
    "        result_list.append({\n",
    "            'cell_name': one_cell_name,\n",
    "            'chr_name': chr_name,\n",
    "            'total_probe_number': total_probe_number,\n",
    "            'nan_probe_number': nan_probe_number,\n",
    "            'missing_rate': missing_rate\n",
    "        })\n",
    "\n",
    "df_columns = ['cell_name', 'chr_name', 'total_probe_number', 'nan_probe_number', 'missing_rate']\n",
    "each_chr_missing_rate_df = pd.DataFrame(result_list, columns=df_columns)\n"
   ]
  },
  {
   "cell_type": "code",
   "execution_count": 56,
   "id": "71683225",
   "metadata": {
    "ExecuteTime": {
     "end_time": "2024-04-27T13:41:52.870157Z",
     "start_time": "2024-04-27T13:41:52.832299Z"
    },
    "scrolled": true
   },
   "outputs": [
    {
     "data": {
      "text/html": [
       "<div>\n",
       "<style scoped>\n",
       "    .dataframe tbody tr th:only-of-type {\n",
       "        vertical-align: middle;\n",
       "    }\n",
       "\n",
       "    .dataframe tbody tr th {\n",
       "        vertical-align: top;\n",
       "    }\n",
       "\n",
       "    .dataframe thead th {\n",
       "        text-align: right;\n",
       "    }\n",
       "</style>\n",
       "<table border=\"1\" class=\"dataframe\">\n",
       "  <thead>\n",
       "    <tr style=\"text-align: right;\">\n",
       "      <th></th>\n",
       "      <th>cell_name</th>\n",
       "      <th>chr_name</th>\n",
       "      <th>total_probe_number</th>\n",
       "      <th>nan_probe_number</th>\n",
       "      <th>missing_rate</th>\n",
       "    </tr>\n",
       "  </thead>\n",
       "  <tbody>\n",
       "    <tr>\n",
       "      <th>0</th>\n",
       "      <td>0_3_1_rep1</td>\n",
       "      <td>chr1</td>\n",
       "      <td>60</td>\n",
       "      <td>19</td>\n",
       "      <td>0.316667</td>\n",
       "    </tr>\n",
       "    <tr>\n",
       "      <th>1</th>\n",
       "      <td>0_3_1_rep1</td>\n",
       "      <td>chr2</td>\n",
       "      <td>60</td>\n",
       "      <td>16</td>\n",
       "      <td>0.266667</td>\n",
       "    </tr>\n",
       "    <tr>\n",
       "      <th>2</th>\n",
       "      <td>0_3_1_rep1</td>\n",
       "      <td>chr3</td>\n",
       "      <td>60</td>\n",
       "      <td>16</td>\n",
       "      <td>0.266667</td>\n",
       "    </tr>\n",
       "    <tr>\n",
       "      <th>3</th>\n",
       "      <td>0_3_1_rep1</td>\n",
       "      <td>chr4</td>\n",
       "      <td>60</td>\n",
       "      <td>16</td>\n",
       "      <td>0.266667</td>\n",
       "    </tr>\n",
       "    <tr>\n",
       "      <th>4</th>\n",
       "      <td>0_3_1_rep1</td>\n",
       "      <td>chr5</td>\n",
       "      <td>60</td>\n",
       "      <td>10</td>\n",
       "      <td>0.166667</td>\n",
       "    </tr>\n",
       "    <tr>\n",
       "      <th>...</th>\n",
       "      <td>...</td>\n",
       "      <td>...</td>\n",
       "      <td>...</td>\n",
       "      <td>...</td>\n",
       "      <td>...</td>\n",
       "    </tr>\n",
       "    <tr>\n",
       "      <th>22855</th>\n",
       "      <td>7_3_79_48hr</td>\n",
       "      <td>chr16</td>\n",
       "      <td>60</td>\n",
       "      <td>29</td>\n",
       "      <td>0.483333</td>\n",
       "    </tr>\n",
       "    <tr>\n",
       "      <th>22856</th>\n",
       "      <td>7_3_79_48hr</td>\n",
       "      <td>chr17</td>\n",
       "      <td>60</td>\n",
       "      <td>21</td>\n",
       "      <td>0.350000</td>\n",
       "    </tr>\n",
       "    <tr>\n",
       "      <th>22857</th>\n",
       "      <td>7_3_79_48hr</td>\n",
       "      <td>chr18</td>\n",
       "      <td>60</td>\n",
       "      <td>21</td>\n",
       "      <td>0.350000</td>\n",
       "    </tr>\n",
       "    <tr>\n",
       "      <th>22858</th>\n",
       "      <td>7_3_79_48hr</td>\n",
       "      <td>chr19</td>\n",
       "      <td>60</td>\n",
       "      <td>15</td>\n",
       "      <td>0.250000</td>\n",
       "    </tr>\n",
       "    <tr>\n",
       "      <th>22859</th>\n",
       "      <td>7_3_79_48hr</td>\n",
       "      <td>chrX</td>\n",
       "      <td>60</td>\n",
       "      <td>7</td>\n",
       "      <td>0.116667</td>\n",
       "    </tr>\n",
       "  </tbody>\n",
       "</table>\n",
       "<p>22860 rows × 5 columns</p>\n",
       "</div>"
      ],
      "text/plain": [
       "         cell_name chr_name  total_probe_number  nan_probe_number  \\\n",
       "0       0_3_1_rep1     chr1                  60                19   \n",
       "1       0_3_1_rep1     chr2                  60                16   \n",
       "2       0_3_1_rep1     chr3                  60                16   \n",
       "3       0_3_1_rep1     chr4                  60                16   \n",
       "4       0_3_1_rep1     chr5                  60                10   \n",
       "...            ...      ...                 ...               ...   \n",
       "22855  7_3_79_48hr    chr16                  60                29   \n",
       "22856  7_3_79_48hr    chr17                  60                21   \n",
       "22857  7_3_79_48hr    chr18                  60                21   \n",
       "22858  7_3_79_48hr    chr19                  60                15   \n",
       "22859  7_3_79_48hr     chrX                  60                 7   \n",
       "\n",
       "       missing_rate  \n",
       "0          0.316667  \n",
       "1          0.266667  \n",
       "2          0.266667  \n",
       "3          0.266667  \n",
       "4          0.166667  \n",
       "...             ...  \n",
       "22855      0.483333  \n",
       "22856      0.350000  \n",
       "22857      0.350000  \n",
       "22858      0.250000  \n",
       "22859      0.116667  \n",
       "\n",
       "[22860 rows x 5 columns]"
      ]
     },
     "execution_count": 56,
     "metadata": {},
     "output_type": "execute_result"
    }
   ],
   "source": [
    "each_chr_missing_rate_df"
   ]
  },
  {
   "cell_type": "code",
   "execution_count": 57,
   "id": "2286c9da",
   "metadata": {
    "ExecuteTime": {
     "end_time": "2024-04-27T13:42:00.491270Z",
     "start_time": "2024-04-27T13:42:00.473812Z"
    }
   },
   "outputs": [],
   "source": [
    "missing_rate_df = each_chr_missing_rate_df.set_index(['cell_name', 'chr_name'])"
   ]
  },
  {
   "cell_type": "code",
   "execution_count": 58,
   "id": "23978268",
   "metadata": {
    "ExecuteTime": {
     "end_time": "2024-04-27T13:42:01.154750Z",
     "start_time": "2024-04-27T13:42:01.149464Z"
    }
   },
   "outputs": [],
   "source": [
    "first_seen_probe_data['each_chr_missing_rate_df']=each_chr_missing_rate_df\n",
    "first_seen_probe_data['missing_rate_df']=missing_rate_df"
   ]
  },
  {
   "cell_type": "markdown",
   "id": "3374486f",
   "metadata": {},
   "source": [
    "### generate chr_bin_len_dict"
   ]
  },
  {
   "cell_type": "code",
   "execution_count": 59,
   "id": "a54aeecb",
   "metadata": {
    "ExecuteTime": {
     "end_time": "2024-04-27T13:42:02.498564Z",
     "start_time": "2024-04-27T13:42:02.492750Z"
    }
   },
   "outputs": [],
   "source": [
    "chr_bin_length_dic={}\n",
    "for chr_name in chr_name_list:\n",
    "    chr_bin_length_dic[chr_name]=len_num\n",
    "first_seen_probe_data['chr_bin_length_dic']=chr_bin_length_dic"
   ]
  },
  {
   "cell_type": "markdown",
   "id": "79bd30cf",
   "metadata": {},
   "source": [
    "### generate cell_num"
   ]
  },
  {
   "cell_type": "code",
   "execution_count": 70,
   "id": "1e6f97ed",
   "metadata": {
    "ExecuteTime": {
     "end_time": "2024-04-27T13:43:24.175389Z",
     "start_time": "2024-04-27T13:43:24.169773Z"
    }
   },
   "outputs": [],
   "source": [
    "cell_number=len(first_seen_probe_data['chrom_ids'])"
   ]
  },
  {
   "cell_type": "code",
   "execution_count": 34,
   "id": "dc471e47",
   "metadata": {
    "ExecuteTime": {
     "end_time": "2024-04-27T13:37:25.699076Z",
     "start_time": "2024-04-27T13:37:25.691140Z"
    }
   },
   "outputs": [
    {
     "data": {
      "text/plain": [
       "1143"
      ]
     },
     "execution_count": 34,
     "metadata": {},
     "output_type": "execute_result"
    }
   ],
   "source": [
    "cell_number"
   ]
  },
  {
   "cell_type": "code",
   "execution_count": 71,
   "id": "7169949e",
   "metadata": {
    "ExecuteTime": {
     "end_time": "2024-04-27T13:43:25.981746Z",
     "start_time": "2024-04-27T13:43:25.976621Z"
    }
   },
   "outputs": [],
   "source": [
    "first_seen_probe_data['cell_number']=cell_number"
   ]
  },
  {
   "cell_type": "markdown",
   "id": "455b13dc",
   "metadata": {},
   "source": [
    "### generate cell type df"
   ]
  },
  {
   "cell_type": "code",
   "execution_count": 61,
   "id": "ca05df74",
   "metadata": {
    "ExecuteTime": {
     "end_time": "2024-04-27T13:42:06.812002Z",
     "start_time": "2024-04-27T13:42:06.806866Z"
    }
   },
   "outputs": [],
   "source": [
    "cluster_label_list=first_seen_probe_data['cluster_label']\n",
    "cluster_label_name_dict=first_seen_probe_data['cluster_label_name']"
   ]
  },
  {
   "cell_type": "code",
   "execution_count": 62,
   "id": "33732f23",
   "metadata": {
    "ExecuteTime": {
     "end_time": "2024-04-27T13:42:08.538666Z",
     "start_time": "2024-04-27T13:42:08.521611Z"
    }
   },
   "outputs": [],
   "source": [
    "result_list=[]\n",
    "for cell_index, label_idx in enumerate(cluster_label_list):\n",
    "    one_cell_name=chrom_index_to_ids_dict[cell_index]\n",
    "    cell_type=cluster_label_name_dict[label_idx]\n",
    "    result_list.append({\n",
    "    'cell_name': one_cell_name,\n",
    "    'cell_type': cell_type,\n",
    "})\n",
    "cell_type_df=pd.DataFrame(result_list)"
   ]
  },
  {
   "cell_type": "code",
   "execution_count": 63,
   "id": "02709124",
   "metadata": {
    "ExecuteTime": {
     "end_time": "2024-04-27T13:42:16.259626Z",
     "start_time": "2024-04-27T13:42:16.253735Z"
    }
   },
   "outputs": [],
   "source": [
    "cell_type_df.index=cell_type_df['cell_name']"
   ]
  },
  {
   "cell_type": "code",
   "execution_count": 64,
   "id": "852db165",
   "metadata": {
    "ExecuteTime": {
     "end_time": "2024-04-27T13:42:17.820655Z",
     "start_time": "2024-04-27T13:42:17.815718Z"
    }
   },
   "outputs": [],
   "source": [
    "first_seen_probe_data['cell_type_df']=cell_type_df"
   ]
  },
  {
   "cell_type": "code",
   "execution_count": 65,
   "id": "dc3a2554",
   "metadata": {
    "ExecuteTime": {
     "end_time": "2024-04-27T13:42:18.718577Z",
     "start_time": "2024-04-27T13:42:18.713445Z"
    }
   },
   "outputs": [],
   "source": [
    "adata_obs_df=cell_type_df\n",
    "first_seen_probe_data['adata_obs_df']=adata_obs_df"
   ]
  },
  {
   "cell_type": "code",
   "execution_count": null,
   "id": "390c5213",
   "metadata": {},
   "outputs": [],
   "source": []
  },
  {
   "cell_type": "markdown",
   "id": "549fe8b2",
   "metadata": {},
   "source": [
    "### generate spatial distance h5ad"
   ]
  },
  {
   "cell_type": "code",
   "execution_count": 66,
   "id": "7165069b",
   "metadata": {
    "ExecuteTime": {
     "end_time": "2024-04-27T13:42:23.616321Z",
     "start_time": "2024-04-27T13:42:23.610540Z"
    }
   },
   "outputs": [],
   "source": [
    "spaital_dist_suffix='spatial_dist'\n",
    "prxoimtiy_score_suffix='proximity_score'\n",
    "first_seen_probe_data['spaital_dist_suffix']=spaital_dist_suffix\n",
    "first_seen_probe_data['prxoimtiy_score_suffix']=prxoimtiy_score_suffix"
   ]
  },
  {
   "cell_type": "code",
   "execution_count": 96,
   "id": "10a837ea",
   "metadata": {
    "ExecuteTime": {
     "end_time": "2024-04-26T09:05:09.780565Z",
     "start_time": "2024-04-26T09:05:08.873219Z"
    }
   },
   "outputs": [],
   "source": [
    "first_seen_probe_data_path=os.path.join(first_seen_probe_data_dir,'first_seen_probe_data.pkl')\n",
    "basic.store_variable_from_pikle_file(first_seen_probe_data_path,first_seen_probe_data)"
   ]
  },
  {
   "cell_type": "code",
   "execution_count": null,
   "id": "d3eebc7f",
   "metadata": {},
   "outputs": [],
   "source": [
    "first_seen_probe_data_path=os.path.join(first_seen_probe_data_dir,'first_seen_probe_data.pkl')\n",
    "first_seen_probe_data=basic.load_variable_from_pikle_file(first_seen_probe_data_path)"
   ]
  },
  {
   "cell_type": "code",
   "execution_count": 72,
   "id": "fe7734c8",
   "metadata": {
    "ExecuteTime": {
     "end_time": "2024-04-27T13:43:33.582000Z",
     "start_time": "2024-04-27T13:43:33.574514Z"
    }
   },
   "outputs": [],
   "source": [
    "chr_name_list=first_seen_probe_data['chr_name_list']\n",
    "cell_number=first_seen_probe_data['cell_number']\n",
    "all_cell_dna_list=first_seen_probe_data['all_cell_dna_list']\n",
    "chr_bin_length_dic=first_seen_probe_data['chr_bin_length_dic']\n",
    "chrom_index_to_ids_dict=first_seen_probe_data['chrom_index_to_ids_dict']\n",
    "adata_obs_df=first_seen_probe_data['adata_obs_df']\n",
    "spaital_dist_suffix=first_seen_probe_data['spaital_dist_suffix']\n",
    "prxoimtiy_score_suffix=first_seen_probe_data['prxoimtiy_score_suffix']"
   ]
  },
  {
   "cell_type": "code",
   "execution_count": 73,
   "id": "bf8686b2",
   "metadata": {
    "ExecuteTime": {
     "end_time": "2024-04-27T13:43:37.517633Z",
     "start_time": "2024-04-27T13:43:37.512179Z"
    }
   },
   "outputs": [],
   "source": [
    "store_path=os.path.join(first_seen_probe_data_dir,f'first_seen_probe_data_{spaital_dist_suffix}.h5ad')"
   ]
  },
  {
   "cell_type": "code",
   "execution_count": 74,
   "id": "4a02369a",
   "metadata": {
    "ExecuteTime": {
     "end_time": "2024-04-27T13:44:11.306784Z",
     "start_time": "2024-04-27T13:43:38.400696Z"
    },
    "scrolled": true
   },
   "outputs": [
    {
     "name": "stdout",
     "output_type": "stream",
     "text": [
      "chr1\n"
     ]
    },
    {
     "name": "stderr",
     "output_type": "stream",
     "text": [
      "100%|██████████| 1143/1143 [00:00<00:00, 1384774.54it/s]\n",
      "100%|██████████| 1143/1143 [00:00<00:00, 25512.96it/s]\n"
     ]
    },
    {
     "name": "stdout",
     "output_type": "stream",
     "text": [
      "chr1\n"
     ]
    },
    {
     "name": "stderr",
     "output_type": "stream",
     "text": [
      "  2%|▏         | 28/1143 [00:00<00:08, 133.47it/s]"
     ]
    },
    {
     "name": "stdout",
     "output_type": "stream",
     "text": [
      "chr2\n"
     ]
    },
    {
     "name": "stderr",
     "output_type": "stream",
     "text": [
      "100%|██████████| 1143/1143 [00:00<00:00, 1437077.18it/s]\n",
      "100%|██████████| 1143/1143 [00:00<00:00, 26805.83it/s]\n"
     ]
    },
    {
     "name": "stdout",
     "output_type": "stream",
     "text": [
      "chr2\n"
     ]
    },
    {
     "name": "stderr",
     "output_type": "stream",
     "text": [
      "  2%|▏         | 28/1143 [00:00<00:08, 131.75it/s]"
     ]
    },
    {
     "name": "stdout",
     "output_type": "stream",
     "text": [
      "chr3\n"
     ]
    },
    {
     "name": "stderr",
     "output_type": "stream",
     "text": [
      "100%|██████████| 1143/1143 [00:00<00:00, 1374452.26it/s]\n",
      "100%|██████████| 1143/1143 [00:00<00:00, 26749.75it/s]\n",
      "  7%|▋         | 84/1143 [00:00<00:08, 130.52it/s]"
     ]
    },
    {
     "name": "stdout",
     "output_type": "stream",
     "text": [
      "chr3\n"
     ]
    },
    {
     "name": "stderr",
     "output_type": "stream",
     "text": [
      "  2%|▏         | 28/1143 [00:00<00:08, 130.52it/s]"
     ]
    },
    {
     "name": "stdout",
     "output_type": "stream",
     "text": [
      "chr4\n"
     ]
    },
    {
     "name": "stderr",
     "output_type": "stream",
     "text": [
      "100%|██████████| 1143/1143 [00:00<00:00, 692287.29it/s]\n",
      "100%|██████████| 1143/1143 [00:00<00:00, 26482.00it/s]\n"
     ]
    },
    {
     "name": "stdout",
     "output_type": "stream",
     "text": [
      "chr4\n"
     ]
    },
    {
     "name": "stderr",
     "output_type": "stream",
     "text": [
      "  2%|▏         | 26/1143 [00:00<00:09, 119.83it/s]"
     ]
    },
    {
     "name": "stdout",
     "output_type": "stream",
     "text": [
      "chr5\n"
     ]
    },
    {
     "name": "stderr",
     "output_type": "stream",
     "text": [
      "100%|██████████| 1143/1143 [00:00<00:00, 1317781.60it/s]\n",
      "100%|██████████| 1143/1143 [00:00<00:00, 26180.33it/s]\n",
      "  3%|▎         | 38/1143 [00:00<00:09, 117.00it/s]"
     ]
    },
    {
     "name": "stdout",
     "output_type": "stream",
     "text": [
      "chr5\n"
     ]
    },
    {
     "name": "stderr",
     "output_type": "stream",
     "text": [
      " 11%|█▏        | 131/1143 [00:01<00:17, 59.01it/s]"
     ]
    },
    {
     "name": "stdout",
     "output_type": "stream",
     "text": [
      "chr6\n"
     ]
    },
    {
     "name": "stderr",
     "output_type": "stream",
     "text": [
      "100%|██████████| 1143/1143 [00:00<00:00, 1453194.75it/s]\n",
      "100%|██████████| 1143/1143 [00:00<00:00, 23866.27it/s]\n"
     ]
    },
    {
     "name": "stdout",
     "output_type": "stream",
     "text": [
      "chr6\n"
     ]
    },
    {
     "name": "stderr",
     "output_type": "stream",
     "text": [
      " 13%|█▎        | 153/1143 [00:01<00:17, 56.72it/s]"
     ]
    },
    {
     "name": "stdout",
     "output_type": "stream",
     "text": [
      "chr7\n"
     ]
    },
    {
     "name": "stderr",
     "output_type": "stream",
     "text": [
      "100%|██████████| 1143/1143 [00:00<00:00, 1449241.07it/s]\n",
      "100%|██████████| 1143/1143 [00:00<00:00, 25933.34it/s]\n"
     ]
    },
    {
     "name": "stdout",
     "output_type": "stream",
     "text": [
      "chr7\n"
     ]
    },
    {
     "name": "stderr",
     "output_type": "stream",
     "text": [
      " 15%|█▌        | 172/1143 [00:02<00:17, 56.09it/s]"
     ]
    },
    {
     "name": "stdout",
     "output_type": "stream",
     "text": [
      "chr8\n"
     ]
    },
    {
     "name": "stderr",
     "output_type": "stream",
     "text": [
      "100%|██████████| 1143/1143 [00:00<00:00, 1416274.59it/s]\n",
      "100%|██████████| 1143/1143 [00:00<00:00, 25700.89it/s]\n",
      " 14%|█▍        | 158/1143 [00:02<00:17, 57.15it/s]"
     ]
    },
    {
     "name": "stdout",
     "output_type": "stream",
     "text": [
      "chr8\n"
     ]
    },
    {
     "name": "stderr",
     "output_type": "stream",
     "text": [
      "  7%|▋         | 84/1143 [00:00<00:07, 134.12it/s]"
     ]
    },
    {
     "name": "stdout",
     "output_type": "stream",
     "text": [
      "chr9\n"
     ]
    },
    {
     "name": "stderr",
     "output_type": "stream",
     "text": [
      "100%|██████████| 1143/1143 [00:00<00:00, 1338757.18it/s]\n",
      "100%|██████████| 1143/1143 [00:00<00:00, 25107.70it/s]\n"
     ]
    },
    {
     "name": "stdout",
     "output_type": "stream",
     "text": [
      "chr9\n"
     ]
    },
    {
     "name": "stderr",
     "output_type": "stream",
     "text": [
      " 17%|█▋        | 195/1143 [00:02<00:17, 55.71it/s]"
     ]
    },
    {
     "name": "stdout",
     "output_type": "stream",
     "text": [
      "chr10\n"
     ]
    },
    {
     "name": "stderr",
     "output_type": "stream",
     "text": [
      "100%|██████████| 1143/1143 [00:00<00:00, 1228623.65it/s]\n",
      "100%|██████████| 1143/1143 [00:00<00:00, 25251.32it/s]\n",
      " 12%|█▏        | 141/1143 [00:01<00:17, 57.85it/s]"
     ]
    },
    {
     "name": "stdout",
     "output_type": "stream",
     "text": [
      "chr10\n"
     ]
    },
    {
     "name": "stderr",
     "output_type": "stream",
     "text": [
      " 11%|█         | 123/1143 [00:01<00:15, 64.95it/s]"
     ]
    },
    {
     "name": "stdout",
     "output_type": "stream",
     "text": [
      "chr11\n"
     ]
    },
    {
     "name": "stderr",
     "output_type": "stream",
     "text": [
      "100%|██████████| 1143/1143 [00:00<00:00, 706259.50it/s]\n",
      "100%|██████████| 1143/1143 [00:00<00:00, 24606.78it/s]\n"
     ]
    },
    {
     "name": "stdout",
     "output_type": "stream",
     "text": [
      "chr11\n"
     ]
    },
    {
     "name": "stderr",
     "output_type": "stream",
     "text": [
      " 19%|█▉        | 215/1143 [00:03<00:16, 55.40it/s]"
     ]
    },
    {
     "name": "stdout",
     "output_type": "stream",
     "text": [
      "chr12\n"
     ]
    },
    {
     "name": "stderr",
     "output_type": "stream",
     "text": [
      "100%|██████████| 1143/1143 [00:00<00:00, 750131.35it/s]\n",
      "100%|██████████| 1143/1143 [00:00<00:00, 25444.17it/s]\n",
      " 22%|██▏       | 256/1143 [00:03<00:15, 55.76it/s]"
     ]
    },
    {
     "name": "stdout",
     "output_type": "stream",
     "text": [
      "chr12\n"
     ]
    },
    {
     "name": "stderr",
     "output_type": "stream",
     "text": [
      " 24%|██▍       | 274/1143 [00:04<00:15, 57.75it/s]"
     ]
    },
    {
     "name": "stdout",
     "output_type": "stream",
     "text": [
      "chr13\n"
     ]
    },
    {
     "name": "stderr",
     "output_type": "stream",
     "text": [
      "100%|██████████| 1143/1143 [00:00<00:00, 840625.89it/s]\n",
      "100%|██████████| 1143/1143 [00:00<00:00, 23555.63it/s]\n",
      " 23%|██▎       | 261/1143 [00:03<00:15, 57.86it/s]"
     ]
    },
    {
     "name": "stdout",
     "output_type": "stream",
     "text": [
      "chr13\n"
     ]
    },
    {
     "name": "stderr",
     "output_type": "stream",
     "text": [
      "  7%|▋         | 77/1143 [00:00<00:08, 121.29it/s]"
     ]
    },
    {
     "name": "stdout",
     "output_type": "stream",
     "text": [
      "chr14\n"
     ]
    },
    {
     "name": "stderr",
     "output_type": "stream",
     "text": [
      "100%|██████████| 1143/1143 [00:00<00:00, 1237503.74it/s]\n",
      "100%|██████████| 1143/1143 [00:00<00:00, 23976.92it/s]\n",
      " 21%|██        | 242/1143 [00:03<00:15, 57.96it/s]"
     ]
    },
    {
     "name": "stdout",
     "output_type": "stream",
     "text": [
      "chr14\n"
     ]
    },
    {
     "name": "stderr",
     "output_type": "stream",
     "text": [
      " 16%|█▌        | 178/1143 [00:02<00:18, 52.92it/s]"
     ]
    },
    {
     "name": "stdout",
     "output_type": "stream",
     "text": [
      "chr15"
     ]
    },
    {
     "name": "stderr",
     "output_type": "stream",
     "text": [
      "\r",
      " 26%|██▌       | 297/1143 [00:04<00:14, 57.81it/s]"
     ]
    },
    {
     "name": "stdout",
     "output_type": "stream",
     "text": [
      "\n"
     ]
    },
    {
     "name": "stderr",
     "output_type": "stream",
     "text": [
      "100%|██████████| 1143/1143 [00:00<00:00, 391354.24it/s]\n",
      "100%|██████████| 1143/1143 [00:00<00:00, 22984.86it/s]\n",
      "  3%|▎         | 38/1143 [00:00<00:09, 119.62it/s]"
     ]
    },
    {
     "name": "stdout",
     "output_type": "stream",
     "text": [
      "chr15\n"
     ]
    },
    {
     "name": "stderr",
     "output_type": "stream",
     "text": [
      " 26%|██▌       | 293/1143 [00:04<00:20, 40.75it/s]"
     ]
    },
    {
     "name": "stdout",
     "output_type": "stream",
     "text": [
      "chr16"
     ]
    },
    {
     "name": "stderr",
     "output_type": "stream",
     "text": [
      "\r",
      " 21%|██        | 237/1143 [00:03<00:23, 39.21it/s]"
     ]
    },
    {
     "name": "stdout",
     "output_type": "stream",
     "text": [
      "\n"
     ]
    },
    {
     "name": "stderr",
     "output_type": "stream",
     "text": [
      "100%|██████████| 1143/1143 [00:00<00:00, 792149.62it/s]\n",
      "100%|██████████| 1143/1143 [00:00<00:00, 18877.49it/s]\n",
      " 16%|█▌        | 178/1143 [00:02<00:24, 40.16it/s]"
     ]
    },
    {
     "name": "stdout",
     "output_type": "stream",
     "text": [
      "chr16\n"
     ]
    },
    {
     "name": "stderr",
     "output_type": "stream",
     "text": [
      "  3%|▎         | 38/1143 [00:00<00:09, 116.87it/s]"
     ]
    },
    {
     "name": "stdout",
     "output_type": "stream",
     "text": [
      "chr17"
     ]
    },
    {
     "name": "stderr",
     "output_type": "stream",
     "text": [
      "\r",
      " 12%|█▏        | 133/1143 [00:01<00:21, 46.78it/s]"
     ]
    },
    {
     "name": "stdout",
     "output_type": "stream",
     "text": [
      "\n"
     ]
    },
    {
     "name": "stderr",
     "output_type": "stream",
     "text": [
      "100%|██████████| 1143/1143 [00:00<00:00, 665014.49it/s]\n",
      "100%|██████████| 1143/1143 [00:00<00:00, 22597.00it/s]\n"
     ]
    },
    {
     "name": "stdout",
     "output_type": "stream",
     "text": [
      "chr17\n"
     ]
    },
    {
     "name": "stderr",
     "output_type": "stream",
     "text": [
      " 19%|█▊        | 213/1143 [00:03<00:20, 44.97it/s]"
     ]
    },
    {
     "name": "stdout",
     "output_type": "stream",
     "text": [
      "chr18\n"
     ]
    },
    {
     "name": "stderr",
     "output_type": "stream",
     "text": [
      "100%|██████████| 1143/1143 [00:00<00:00, 892255.62it/s]\n",
      "100%|██████████| 1143/1143 [00:00<00:00, 23889.70it/s]\n",
      " 25%|██▍       | 285/1143 [00:04<00:16, 52.13it/s]"
     ]
    },
    {
     "name": "stdout",
     "output_type": "stream",
     "text": [
      "chr18\n"
     ]
    },
    {
     "name": "stderr",
     "output_type": "stream",
     "text": [
      " 29%|██▉       | 335/1143 [00:05<00:25, 31.55it/s]"
     ]
    },
    {
     "name": "stdout",
     "output_type": "stream",
     "text": [
      "chr19\n"
     ]
    },
    {
     "name": "stderr",
     "output_type": "stream",
     "text": [
      "100%|██████████| 1143/1143 [00:00<00:00, 1201225.12it/s]\n",
      "100%|██████████| 1143/1143 [00:00<00:00, 23514.85it/s]\n",
      " 22%|██▏       | 255/1143 [00:04<00:25, 34.45it/s]"
     ]
    },
    {
     "name": "stdout",
     "output_type": "stream",
     "text": [
      "chr19\n"
     ]
    },
    {
     "name": "stderr",
     "output_type": "stream",
     "text": [
      " 31%|███       | 353/1143 [00:06<00:18, 43.35it/s]"
     ]
    },
    {
     "name": "stdout",
     "output_type": "stream",
     "text": [
      "chrX\n"
     ]
    },
    {
     "name": "stderr",
     "output_type": "stream",
     "text": [
      "100%|██████████| 1143/1143 [00:00<00:00, 1105393.01it/s]\n",
      "100%|██████████| 1143/1143 [00:00<00:00, 23772.66it/s]\n",
      " 17%|█▋        | 190/1143 [00:03<00:21, 44.23it/s]"
     ]
    },
    {
     "name": "stdout",
     "output_type": "stream",
     "text": [
      "chrX\n"
     ]
    },
    {
     "name": "stderr",
     "output_type": "stream",
     "text": [
      "100%|██████████| 1143/1143 [00:22<00:00, 50.01it/s]\n",
      "100%|██████████| 1143/1143 [00:22<00:00, 50.01it/s]\n",
      "100%|██████████| 1143/1143 [00:22<00:00, 49.92it/s]\n",
      "100%|██████████| 1143/1143 [00:23<00:00, 48.18it/s]\n",
      "100%|██████████| 1143/1143 [00:22<00:00, 49.86it/s]\n",
      "100%|██████████| 1143/1143 [00:23<00:00, 48.36it/s]\n",
      "100%|██████████| 1143/1143 [00:24<00:00, 47.23it/s]\n",
      "100%|██████████| 1143/1143 [00:24<00:00, 46.86it/s]\n",
      "100%|██████████| 1143/1143 [00:23<00:00, 48.69it/s]\n",
      "100%|██████████| 1143/1143 [00:23<00:00, 48.90it/s]\n",
      "100%|██████████| 1143/1143 [00:25<00:00, 45.56it/s]\n",
      "100%|██████████| 1143/1143 [00:25<00:00, 45.70it/s]\n",
      "100%|██████████| 1143/1143 [00:24<00:00, 46.42it/s]\n",
      "100%|██████████| 1143/1143 [00:24<00:00, 46.93it/s]\n",
      "100%|██████████| 1143/1143 [00:22<00:00, 50.88it/s]\n",
      "100%|██████████| 1143/1143 [00:23<00:00, 48.67it/s]\n",
      "100%|██████████| 1143/1143 [00:24<00:00, 47.62it/s]\n",
      "100%|██████████| 1143/1143 [00:24<00:00, 46.66it/s]\n",
      "100%|██████████| 1143/1143 [00:23<00:00, 49.27it/s]\n",
      "100%|██████████| 1143/1143 [00:23<00:00, 49.54it/s]\n"
     ]
    }
   ],
   "source": [
    "ImputeHiFI.generate_spatial_distance_h5ad.generate_spatial_h5ad(chr_name_list,cell_number,all_cell_dna_list,\n",
    "                              chr_bin_length_dic,chrom_index_to_ids_dict,adata_obs_df,store_path,)"
   ]
  },
  {
   "cell_type": "code",
   "execution_count": 75,
   "id": "d5185b65",
   "metadata": {
    "ExecuteTime": {
     "end_time": "2024-04-27T13:44:14.649075Z",
     "start_time": "2024-04-27T13:44:14.534977Z"
    }
   },
   "outputs": [],
   "source": [
    "store_path=os.path.join(first_seen_probe_data_dir,f'first_seen_probe_data_{spaital_dist_suffix}.h5ad')\n",
    "DNA_FISH_spad_adata=sc.read(store_path)"
   ]
  },
  {
   "cell_type": "code",
   "execution_count": 76,
   "id": "0551ff85",
   "metadata": {
    "ExecuteTime": {
     "end_time": "2024-04-27T13:44:15.479554Z",
     "start_time": "2024-04-27T13:44:15.471126Z"
    },
    "scrolled": true
   },
   "outputs": [
    {
     "data": {
      "text/plain": [
       "AnnData object with n_obs × n_vars = 1143 × 35400\n",
       "    obs: 'cell_name', 'cell_type'"
      ]
     },
     "execution_count": 76,
     "metadata": {},
     "output_type": "execute_result"
    }
   ],
   "source": [
    "DNA_FISH_spad_adata"
   ]
  },
  {
   "cell_type": "markdown",
   "id": "a7db147d",
   "metadata": {},
   "source": [
    "### generate each cell sigma value"
   ]
  },
  {
   "cell_type": "code",
   "execution_count": 77,
   "id": "817bfc44",
   "metadata": {
    "ExecuteTime": {
     "end_time": "2024-04-27T13:44:19.195013Z",
     "start_time": "2024-04-27T13:44:18.965123Z"
    }
   },
   "outputs": [],
   "source": [
    "store_path=os.path.join(first_seen_probe_data_dir,f'first_seen_probe_data_{spaital_dist_suffix}.h5ad')\n",
    "DNA_FISH_spad_adata=sc.read(store_path)"
   ]
  },
  {
   "cell_type": "code",
   "execution_count": 78,
   "id": "bf41b068",
   "metadata": {
    "ExecuteTime": {
     "end_time": "2024-04-27T13:44:25.415570Z",
     "start_time": "2024-04-27T13:44:25.328526Z"
    }
   },
   "outputs": [],
   "source": [
    "adata=DNA_FISH_spad_adata.copy()\n",
    "cell_types = adata.obs['cell_type'].unique()\n",
    "\n",
    "# 创建一个字典来存储每种细胞类型的子集数据\n",
    "cell_type_subsets = {}\n",
    "\n",
    "for cell_type in cell_types:\n",
    "    # 使用 adata[adata.obs['cell_type'] == cell_type] 来选择特定类型的细胞\n",
    "    cell_type_subset = adata[adata.obs['cell_type'] == cell_type]\n",
    "    # 将子集数据存储在字典中\n",
    "    cell_type_subsets[cell_type] = cell_type_subset"
   ]
  },
  {
   "cell_type": "code",
   "execution_count": 79,
   "id": "6649bf39",
   "metadata": {
    "ExecuteTime": {
     "end_time": "2024-04-27T13:44:33.804214Z",
     "start_time": "2024-04-27T13:44:30.031915Z"
    },
    "scrolled": true
   },
   "outputs": [
    {
     "name": "stderr",
     "output_type": "stream",
     "text": [
      "100%|██████████| 20/20 [00:03<00:00,  5.33it/s]\n"
     ]
    }
   ],
   "source": [
    "p=50\n",
    "chr_cell_type_center_value_dict={}\n",
    "for chr_name in tqdm(chr_bin_length_dic.keys()):\n",
    "    num_cell_types = len(cell_types)\n",
    "    for index, cell_type in enumerate(cell_types):\n",
    "        title_name = f\"{cell_type} {chr_name}\"\n",
    "        bin_length = chr_bin_length_dic[chr_name]\n",
    "        Example_df = ImputeHiFI.generate_Example_bin_pair_df(chr_name, bin_length)\n",
    "        temp_array = cell_type_subsets[cell_type][:, Example_df.index].copy().X\n",
    "        title_name += f\" ({temp_array.shape[0]} chromosomes)\"\n",
    "        Example_df['data'] = np.nanmedian(temp_array, axis=0)\n",
    "        matrix_array = ImputeHiFI.convert_bin_pair_df_to_array(bin_length, Example_df)\n",
    "        matrix_array = matrix_array + matrix_array.T\n",
    "        np.fill_diagonal(matrix_array, 0)\n",
    "        rows, cols = np.triu_indices(matrix_array.shape[0],k=1)\n",
    "\n",
    "        # 使用这些索引提取上三角矩阵的值\n",
    "        upper_triangle_values = matrix_array[rows, cols]\n",
    "\n",
    "        # 从上三角值中过滤出非NaN的值\n",
    "        non_nan_upper_triangle_values = upper_triangle_values[~np.isnan(upper_triangle_values)]\n",
    "#         p=50\n",
    "        center_value=np.percentile(non_nan_upper_triangle_values,p)\n",
    "        chr_cell_type_center_value_dict[chr_name+cell_type]=center_value\n",
    "        \n",
    "        cmap = plt.cm.seismic_r\n",
    "        cmap.set_bad('#8a898a')\n",
    "\n",
    "        # 绘制热图\n",
    "#         print(title_name)\n",
    "#         heatmap =sns.heatmap(matrix_array, cmap=cmap,center=int(center_value),vmax=int(center_value*2), cbar=True,square=True)\n",
    "        \n",
    "#         plt.show()"
   ]
  },
  {
   "cell_type": "code",
   "execution_count": 80,
   "id": "48cb8ce1",
   "metadata": {
    "ExecuteTime": {
     "end_time": "2024-04-27T13:44:37.613664Z",
     "start_time": "2024-04-27T13:44:37.604434Z"
    }
   },
   "outputs": [],
   "source": [
    "chr_cell_type_center_value_df = pd.DataFrame(list(chr_cell_type_center_value_dict.items()), columns=['Chr_Cell_Type', 'Center_Value'])\n",
    "chr_cell_type_center_value_df.index=chr_cell_type_center_value_df['Chr_Cell_Type']"
   ]
  },
  {
   "cell_type": "code",
   "execution_count": 81,
   "id": "34bc8d7b",
   "metadata": {
    "ExecuteTime": {
     "end_time": "2024-04-27T13:44:38.639583Z",
     "start_time": "2024-04-27T13:44:38.633674Z"
    }
   },
   "outputs": [],
   "source": [
    "\n",
    "first_seen_probe_data['chr_cell_type_center_value_df']=chr_cell_type_center_value_df"
   ]
  },
  {
   "cell_type": "markdown",
   "id": "fb9f4387",
   "metadata": {},
   "source": [
    "### generate proximtiy score h5ad"
   ]
  },
  {
   "cell_type": "code",
   "execution_count": 82,
   "id": "9e244b43",
   "metadata": {
    "ExecuteTime": {
     "end_time": "2024-04-27T13:44:51.842616Z",
     "start_time": "2024-04-27T13:44:51.834370Z"
    }
   },
   "outputs": [
    {
     "data": {
      "text/plain": [
       "array([[       nan,        nan,        nan, ..., 2.0276818 ,        nan,\n",
       "               nan],\n",
       "       [       nan,        nan,        nan, ..., 3.1045175 , 3.033245  ,\n",
       "        0.72996897],\n",
       "       [       nan, 3.4476643 ,        nan, ..., 1.9447848 ,        nan,\n",
       "               nan],\n",
       "       ...,\n",
       "       [       nan,        nan,        nan, ...,        nan,        nan,\n",
       "               nan],\n",
       "       [       nan, 2.3966217 ,        nan, ...,        nan,        nan,\n",
       "               nan],\n",
       "       [       nan,        nan,        nan, ..., 1.8760629 , 2.930238  ,\n",
       "        3.3246946 ]], dtype=float32)"
      ]
     },
     "execution_count": 82,
     "metadata": {},
     "output_type": "execute_result"
    }
   ],
   "source": [
    "DNA_FISH_spad_adata.X"
   ]
  },
  {
   "cell_type": "code",
   "execution_count": 83,
   "id": "0625dfdd",
   "metadata": {
    "ExecuteTime": {
     "end_time": "2024-04-27T13:48:00.303667Z",
     "start_time": "2024-04-27T13:44:55.148877Z"
    },
    "scrolled": true
   },
   "outputs": [
    {
     "name": "stdout",
     "output_type": "stream",
     "text": [
      "v5 similar FISH\n"
     ]
    },
    {
     "data": {
      "text/plain": [
       "<module 'ImputeHiFI_Algorithm_v5' from '/mnt/disk1/scfan/program/image_project/Cai_21_bioRxiv_Process/ImputHiFi/ImputeHiFI_Algorithm_v5.py'>"
      ]
     },
     "execution_count": 83,
     "metadata": {},
     "output_type": "execute_result"
    },
    {
     "name": "stdout",
     "output_type": "stream",
     "text": [
      "chr1\n"
     ]
    },
    {
     "name": "stderr",
     "output_type": "stream",
     "text": [
      "6it [00:00, 52.08it/s]]"
     ]
    },
    {
     "name": "stdout",
     "output_type": "stream",
     "text": [
      "chr2\n"
     ]
    },
    {
     "name": "stderr",
     "output_type": "stream",
     "text": [
      "67it [00:01, 53.17it/s]"
     ]
    },
    {
     "name": "stdout",
     "output_type": "stream",
     "text": [
      "chr3\n"
     ]
    },
    {
     "name": "stderr",
     "output_type": "stream",
     "text": [
      "66it [00:01, 52.77it/s]"
     ]
    },
    {
     "name": "stdout",
     "output_type": "stream",
     "text": [
      "chr4\n"
     ]
    },
    {
     "name": "stderr",
     "output_type": "stream",
     "text": [
      "120it [00:02, 32.52it/s]"
     ]
    },
    {
     "name": "stdout",
     "output_type": "stream",
     "text": [
      "chr5\n"
     ]
    },
    {
     "name": "stderr",
     "output_type": "stream",
     "text": [
      "38it [00:00, 59.68it/s]]"
     ]
    },
    {
     "name": "stdout",
     "output_type": "stream",
     "text": [
      "chr6\n"
     ]
    },
    {
     "name": "stderr",
     "output_type": "stream",
     "text": [
      "37it [00:00, 58.52it/s]]"
     ]
    },
    {
     "name": "stdout",
     "output_type": "stream",
     "text": [
      "chr7\n"
     ]
    },
    {
     "name": "stderr",
     "output_type": "stream",
     "text": [
      "188it [00:04, 33.55it/s]"
     ]
    },
    {
     "name": "stdout",
     "output_type": "stream",
     "text": [
      "chr8\n"
     ]
    },
    {
     "name": "stderr",
     "output_type": "stream",
     "text": [
      "142it [00:03, 26.95it/s]"
     ]
    },
    {
     "name": "stdout",
     "output_type": "stream",
     "text": [
      "chr9\n"
     ]
    },
    {
     "name": "stderr",
     "output_type": "stream",
     "text": [
      "28it [00:00, 53.54it/s]]"
     ]
    },
    {
     "name": "stdout",
     "output_type": "stream",
     "text": [
      "chr10\n"
     ]
    },
    {
     "name": "stderr",
     "output_type": "stream",
     "text": [
      "64it [00:01, 53.52it/s]]"
     ]
    },
    {
     "name": "stdout",
     "output_type": "stream",
     "text": [
      "chr11\n"
     ]
    },
    {
     "name": "stderr",
     "output_type": "stream",
     "text": [
      "193it [00:04, 34.12it/s]"
     ]
    },
    {
     "name": "stdout",
     "output_type": "stream",
     "text": [
      "chr12\n"
     ]
    },
    {
     "name": "stderr",
     "output_type": "stream",
     "text": [
      "255it [00:06, 31.90it/s]"
     ]
    },
    {
     "name": "stdout",
     "output_type": "stream",
     "text": [
      "chr13"
     ]
    },
    {
     "name": "stderr",
     "output_type": "stream",
     "text": [
      "\r",
      "136it [00:03, 31.62it/s]"
     ]
    },
    {
     "name": "stdout",
     "output_type": "stream",
     "text": [
      "\n"
     ]
    },
    {
     "name": "stderr",
     "output_type": "stream",
     "text": [
      "156it [00:04, 30.86it/s]"
     ]
    },
    {
     "name": "stdout",
     "output_type": "stream",
     "text": [
      "chr14\n"
     ]
    },
    {
     "name": "stderr",
     "output_type": "stream",
     "text": [
      "154it [00:03, 31.12it/s]"
     ]
    },
    {
     "name": "stdout",
     "output_type": "stream",
     "text": [
      "chr15\n"
     ]
    },
    {
     "name": "stderr",
     "output_type": "stream",
     "text": [
      "281it [00:07, 32.57it/s]"
     ]
    },
    {
     "name": "stdout",
     "output_type": "stream",
     "text": [
      "chr16\n"
     ]
    },
    {
     "name": "stderr",
     "output_type": "stream",
     "text": [
      "153it [00:03, 31.59it/s]"
     ]
    },
    {
     "name": "stdout",
     "output_type": "stream",
     "text": [
      "chr17\n"
     ]
    },
    {
     "name": "stderr",
     "output_type": "stream",
     "text": [
      "377it [00:11, 11.23it/s]"
     ]
    },
    {
     "name": "stdout",
     "output_type": "stream",
     "text": [
      "chr18\n"
     ]
    },
    {
     "name": "stderr",
     "output_type": "stream",
     "text": [
      "38it [00:03,  8.28it/s]]"
     ]
    },
    {
     "name": "stdout",
     "output_type": "stream",
     "text": [
      "chr19"
     ]
    },
    {
     "name": "stderr",
     "output_type": "stream",
     "text": [
      "\r",
      "333it [00:12,  6.13it/s]"
     ]
    },
    {
     "name": "stdout",
     "output_type": "stream",
     "text": [
      "\n"
     ]
    },
    {
     "name": "stderr",
     "output_type": "stream",
     "text": [
      "392it [00:15,  3.86it/s]"
     ]
    },
    {
     "name": "stdout",
     "output_type": "stream",
     "text": [
      "chrX"
     ]
    },
    {
     "name": "stderr",
     "output_type": "stream",
     "text": [
      "186it [00:09,  3.70it/s]"
     ]
    },
    {
     "name": "stdout",
     "output_type": "stream",
     "text": [
      "\n"
     ]
    },
    {
     "name": "stderr",
     "output_type": "stream",
     "text": [
      "1143it [02:50,  6.70it/s]\n",
      "1143it [02:50,  6.68it/s]\n",
      "1143it [02:50,  6.70it/s]\n",
      "1143it [02:49,  6.74it/s]\n",
      "1143it [02:51,  6.68it/s]\n",
      "1143it [02:51,  6.66it/s]\n",
      "1143it [02:52,  6.64it/s]\n",
      "957it [02:41, 33.10it/s]]\n",
      "1143it [02:51,  6.65it/s]\n",
      "1143it [02:51,  6.66it/s]\n",
      "1143it [02:50,  6.69it/s]\n",
      "1143it [02:52,  6.61it/s]\n",
      "1143it [02:52,  6.64it/s]\n",
      "1143it [02:51,  6.67it/s]\n",
      "1143it [02:46,  6.85it/s]\n",
      "1143it [02:52,  6.62it/s]\n",
      "1143it [02:51,  6.65it/s]\n",
      "1143it [02:45,  6.90it/s]\n",
      "1143it [02:49,  6.75it/s]\n",
      "1143it [02:51,  6.67it/s]\n"
     ]
    }
   ],
   "source": [
    "importlib.reload(ImputeHiFI)\n",
    "store_path=os.path.join(first_seen_probe_data_dir,f'first_seen_probe_data_{spaital_dist_suffix}.h5ad')\n",
    "DNA_FISH_spad_adata=sc.read(store_path)\n",
    "\n",
    "chr_cell_type_center_value_df=first_seen_probe_data['chr_cell_type_center_value_df']\n",
    "chr_name_list=first_seen_probe_data['chr_name_list']\n",
    "cell_number=first_seen_probe_data['cell_number']\n",
    "all_cell_dna_list=first_seen_probe_data['all_cell_dna_list']\n",
    "chr_bin_length_dic=first_seen_probe_data['chr_bin_length_dic']\n",
    "chrom_index_to_ids_dict=first_seen_probe_data['chrom_index_to_ids_dict']\n",
    "adata_obs_df=first_seen_probe_data['adata_obs_df']\n",
    "spaital_dist_suffix=first_seen_probe_data['spaital_dist_suffix']\n",
    "prxoimtiy_score_suffix=first_seen_probe_data['prxoimtiy_score_suffix']\n",
    "\n",
    "\n",
    "store_path=os.path.join(first_seen_probe_data_dir,f'first_seen_probe_data_{prxoimtiy_score_suffix}.h5ad')\n",
    "ImputeHiFI.generate_proximity_score_h5ad.generate_proximity_h5ad(DNA_FISH_spad_adata,chr_name_list,chr_cell_type_center_value_df,\n",
    "                              chr_bin_length_dic, adata_obs_df, store_path,\n",
    "                              kernerl_number=None)"
   ]
  },
  {
   "cell_type": "code",
   "execution_count": 84,
   "id": "a54eb60c",
   "metadata": {
    "ExecuteTime": {
     "end_time": "2024-04-27T13:49:26.110238Z",
     "start_time": "2024-04-27T13:49:25.992356Z"
    }
   },
   "outputs": [],
   "source": [
    "store_path=os.path.join(first_seen_probe_data_dir,f'first_seen_probe_data_{prxoimtiy_score_suffix}.h5ad')\n",
    "DNA_FISH_proxi_adata=sc.read(store_path)"
   ]
  },
  {
   "cell_type": "code",
   "execution_count": 85,
   "id": "4af2ac05",
   "metadata": {
    "ExecuteTime": {
     "end_time": "2024-04-27T13:49:36.021111Z",
     "start_time": "2024-04-27T13:49:35.680248Z"
    }
   },
   "outputs": [
    {
     "data": {
      "image/png": "[encoded data removed]",
      "text/plain": [
       "<Figure size 432x288 with 2 Axes>"
      ]
     },
     "metadata": {
      "needs_background": "light"
     },
     "output_type": "display_data"
    }
   ],
   "source": [
    "one_FISH_name='0_3_1_rep1'\n",
    "chr_name='chr1'\n",
    "one_array=ImputeHiFI.get_proximity_array(DNA_FISH_proxi_adata, one_FISH_name, chr_name,chr_bin_length_dic,set_min_limit=True,min_limit=0.001,set_max_limit=False,max_limit=1.0)\n",
    "ImputeHiFI.plot_proximity(one_array,title=one_FISH_name+' '+chr_name)"
   ]
  },
  {
   "cell_type": "markdown",
   "id": "a854b884",
   "metadata": {},
   "source": [
    "### cell cell RMSD"
   ]
  },
  {
   "cell_type": "code",
   "execution_count": 86,
   "id": "2afc771f",
   "metadata": {
    "ExecuteTime": {
     "end_time": "2024-04-27T13:51:19.126007Z",
     "start_time": "2024-04-27T13:49:47.149257Z"
    },
    "scrolled": true
   },
   "outputs": [
    {
     "name": "stdout",
     "output_type": "stream",
     "text": [
      "v5 similar FISH\n"
     ]
    },
    {
     "data": {
      "text/plain": [
       "<module 'ImputeHiFI_Algorithm_v5' from '/mnt/disk1/scfan/program/image_project/Cai_21_bioRxiv_Process/ImputHiFi/ImputeHiFI_Algorithm_v5.py'>"
      ]
     },
     "execution_count": 86,
     "metadata": {},
     "output_type": "execute_result"
    },
    {
     "name": "stdout",
     "output_type": "stream",
     "text": [
      "chr1\n",
      "chr1\n"
     ]
    },
    {
     "name": "stderr",
     "output_type": "stream",
     "text": [
      "100%|██████████| 1143/1143 [00:00<00:00, 1525322.77it/s]\n",
      "  0%|          | 1/1143 [00:00<05:04,  3.75it/s]"
     ]
    },
    {
     "name": "stdout",
     "output_type": "stream",
     "text": [
      "chr2\n",
      "chr2\n"
     ]
    },
    {
     "name": "stderr",
     "output_type": "stream",
     "text": [
      "100%|██████████| 1143/1143 [00:00<00:00, 1429364.78it/s]\n",
      "  0%|          | 3/1143 [00:00<02:50,  6.68it/s]"
     ]
    },
    {
     "name": "stdout",
     "output_type": "stream",
     "text": [
      "chr3\n",
      "chr3\n"
     ]
    },
    {
     "name": "stderr",
     "output_type": "stream",
     "text": [
      "100%|██████████| 1143/1143 [00:00<00:00, 1433639.20it/s]\n",
      "  0%|          | 4/1143 [00:00<02:30,  7.56it/s]"
     ]
    },
    {
     "name": "stdout",
     "output_type": "stream",
     "text": [
      "chr4\n"
     ]
    },
    {
     "name": "stderr",
     "output_type": "stream",
     "text": [
      "\r",
      "  1%|          | 6/1143 [00:00<02:27,  7.69it/s]"
     ]
    },
    {
     "name": "stdout",
     "output_type": "stream",
     "text": [
      "chr4\n"
     ]
    },
    {
     "name": "stderr",
     "output_type": "stream",
     "text": [
      "100%|██████████| 1143/1143 [00:00<00:00, 1391204.14it/s]\n",
      "  0%|          | 1/1143 [00:00<04:27,  4.28it/s]"
     ]
    },
    {
     "name": "stdout",
     "output_type": "stream",
     "text": [
      "chr5\n",
      "chr5\n"
     ]
    },
    {
     "name": "stderr",
     "output_type": "stream",
     "text": [
      "100%|██████████| 1143/1143 [00:00<00:00, 1415438.29it/s]\n",
      "  1%|          | 9/1143 [00:01<02:17,  8.27it/s]]"
     ]
    },
    {
     "name": "stdout",
     "output_type": "stream",
     "text": [
      "chr6\n",
      "chr6\n"
     ]
    },
    {
     "name": "stderr",
     "output_type": "stream",
     "text": [
      "100%|██████████| 1143/1143 [00:00<00:00, 1431071.48it/s]\n",
      "  0%|          | 1/1143 [00:00<04:29,  4.24it/s]]"
     ]
    },
    {
     "name": "stdout",
     "output_type": "stream",
     "text": [
      "chr7"
     ]
    },
    {
     "name": "stderr",
     "output_type": "stream",
     "text": [
      "\r",
      "  1%|          | 8/1143 [00:01<02:27,  7.69it/s]"
     ]
    },
    {
     "name": "stdout",
     "output_type": "stream",
     "text": [
      "\n",
      "chr7\n"
     ]
    },
    {
     "name": "stderr",
     "output_type": "stream",
     "text": [
      "100%|██████████| 1143/1143 [00:00<00:00, 1498152.96it/s]\n",
      "  1%|▏         | 15/1143 [00:02<02:31,  7.47it/s]"
     ]
    },
    {
     "name": "stdout",
     "output_type": "stream",
     "text": [
      "chr8\n",
      "chr8\n"
     ]
    },
    {
     "name": "stderr",
     "output_type": "stream",
     "text": [
      "100%|██████████| 1143/1143 [00:00<00:00, 1632864.26it/s]\n",
      "  1%|          | 9/1143 [00:01<02:20,  8.05it/s]]"
     ]
    },
    {
     "name": "stdout",
     "output_type": "stream",
     "text": [
      "chr9\n",
      "chr9\n"
     ]
    },
    {
     "name": "stderr",
     "output_type": "stream",
     "text": [
      "100%|██████████| 1143/1143 [00:00<00:00, 1383975.02it/s]\n",
      "  1%|▏         | 16/1143 [00:02<02:17,  8.17it/s]"
     ]
    },
    {
     "name": "stdout",
     "output_type": "stream",
     "text": [
      "chr10\n",
      "chr10\n"
     ]
    },
    {
     "name": "stderr",
     "output_type": "stream",
     "text": [
      "100%|██████████| 1143/1143 [00:00<00:00, 1485618.06it/s]\n",
      "  2%|▏         | 23/1143 [00:02<02:12,  8.46it/s]"
     ]
    },
    {
     "name": "stdout",
     "output_type": "stream",
     "text": [
      "chr11\n"
     ]
    },
    {
     "name": "stderr",
     "output_type": "stream",
     "text": [
      "\r",
      "  1%|          | 10/1143 [00:01<02:22,  7.97it/s]"
     ]
    },
    {
     "name": "stdout",
     "output_type": "stream",
     "text": [
      "chr11\n"
     ]
    },
    {
     "name": "stderr",
     "output_type": "stream",
     "text": [
      "100%|██████████| 1143/1143 [00:00<00:00, 1364671.07it/s]\n",
      "  1%|▏         | 15/1143 [00:01<02:15,  8.33it/s]"
     ]
    },
    {
     "name": "stdout",
     "output_type": "stream",
     "text": [
      "chr12\n",
      "chr12\n"
     ]
    },
    {
     "name": "stderr",
     "output_type": "stream",
     "text": [
      "100%|██████████| 1143/1143 [00:00<00:00, 1326899.94it/s]\n",
      "  1%|          | 12/1143 [00:01<02:22,  7.94it/s]"
     ]
    },
    {
     "name": "stdout",
     "output_type": "stream",
     "text": [
      "chr13\n",
      "chr13"
     ]
    },
    {
     "name": "stderr",
     "output_type": "stream",
     "text": [
      "\r",
      "  0%|          | 1/1143 [00:00<05:36,  3.40it/s]"
     ]
    },
    {
     "name": "stdout",
     "output_type": "stream",
     "text": [
      "\n"
     ]
    },
    {
     "name": "stderr",
     "output_type": "stream",
     "text": [
      "100%|██████████| 1143/1143 [00:00<00:00, 1520003.00it/s]\n",
      "  2%|▏         | 20/1143 [00:02<02:15,  8.29it/s]"
     ]
    },
    {
     "name": "stdout",
     "output_type": "stream",
     "text": [
      "chr14"
     ]
    },
    {
     "name": "stderr",
     "output_type": "stream",
     "text": [
      "\r",
      "  3%|▎         | 31/1143 [00:03<02:12,  8.40it/s]"
     ]
    },
    {
     "name": "stdout",
     "output_type": "stream",
     "text": [
      "\n",
      "chr14\n"
     ]
    },
    {
     "name": "stderr",
     "output_type": "stream",
     "text": [
      "100%|██████████| 1143/1143 [00:00<00:00, 1517116.92it/s]\n",
      "  0%|          | 3/1143 [00:00<03:20,  5.68it/s]]"
     ]
    },
    {
     "name": "stdout",
     "output_type": "stream",
     "text": [
      "chr15\n",
      "chr15\n"
     ]
    },
    {
     "name": "stderr",
     "output_type": "stream",
     "text": [
      "100%|██████████| 1143/1143 [00:00<00:00, 762540.08it/s]\n",
      "  2%|▏         | 19/1143 [00:02<02:22,  7.88it/s]"
     ]
    },
    {
     "name": "stdout",
     "output_type": "stream",
     "text": [
      "chr16\n",
      "chr16\n"
     ]
    },
    {
     "name": "stderr",
     "output_type": "stream",
     "text": [
      "100%|██████████| 1143/1143 [00:00<00:00, 605543.70it/s]\n",
      "  0%|          | 1/1143 [00:00<05:11,  3.67it/s]]"
     ]
    },
    {
     "name": "stdout",
     "output_type": "stream",
     "text": [
      "chr17\n",
      "chr17\n"
     ]
    },
    {
     "name": "stderr",
     "output_type": "stream",
     "text": [
      "100%|██████████| 1143/1143 [00:00<00:00, 1543990.17it/s]\n",
      "  1%|          | 10/1143 [00:01<02:27,  7.69it/s]"
     ]
    },
    {
     "name": "stdout",
     "output_type": "stream",
     "text": [
      "chr18\n",
      "chr18\n"
     ]
    },
    {
     "name": "stderr",
     "output_type": "stream",
     "text": [
      "100%|██████████| 1143/1143 [00:00<00:00, 1568746.55it/s]\n",
      "  1%|▏         | 17/1143 [00:02<02:25,  7.76it/s]"
     ]
    },
    {
     "name": "stdout",
     "output_type": "stream",
     "text": [
      "chr19\n"
     ]
    },
    {
     "name": "stderr",
     "output_type": "stream",
     "text": [
      "\r",
      "  1%|▏         | 15/1143 [00:02<02:24,  7.80it/s]"
     ]
    },
    {
     "name": "stdout",
     "output_type": "stream",
     "text": [
      "chr19\n"
     ]
    },
    {
     "name": "stderr",
     "output_type": "stream",
     "text": [
      "100%|██████████| 1143/1143 [00:00<00:00, 989696.42it/s]\n",
      "  1%|▏         | 15/1143 [00:02<02:23,  7.89it/s]"
     ]
    },
    {
     "name": "stdout",
     "output_type": "stream",
     "text": [
      "chrX\n",
      "chrX\n"
     ]
    },
    {
     "name": "stderr",
     "output_type": "stream",
     "text": [
      "100%|██████████| 1143/1143 [00:00<00:00, 1372484.82it/s]\n",
      "100%|██████████| 1143/1143 [01:21<00:00, 14.10it/s] \n",
      "100%|██████████| 1143/1143 [01:22<00:00, 13.86it/s] \n",
      "100%|██████████| 1143/1143 [01:21<00:00, 14.10it/s] \n",
      "100%|██████████| 1143/1143 [01:22<00:00, 13.84it/s] \n",
      "100%|██████████| 1143/1143 [01:22<00:00, 13.93it/s] \n",
      "100%|██████████| 1143/1143 [01:24<00:00, 13.59it/s] \n",
      "100%|██████████| 1143/1143 [01:24<00:00, 13.53it/s] \n",
      "100%|██████████| 1143/1143 [01:21<00:00, 13.98it/s] \n",
      "100%|██████████| 1143/1143 [01:22<00:00, 13.82it/s] \n",
      "100%|██████████| 1143/1143 [01:21<00:00, 13.99it/s] \n",
      "100%|██████████| 1143/1143 [01:24<00:00, 13.52it/s] \n",
      "100%|██████████| 1143/1143 [01:23<00:00, 13.77it/s] \n",
      "100%|██████████| 1143/1143 [01:24<00:00, 13.55it/s] \n",
      "100%|██████████| 1143/1143 [01:23<00:00, 13.66it/s] \n",
      "100%|██████████| 1143/1143 [01:22<00:00, 13.89it/s] \n",
      "100%|██████████| 1143/1143 [01:23<00:00, 13.67it/s] \n",
      "100%|██████████| 1143/1143 [01:22<00:00, 13.83it/s] \n",
      "100%|██████████| 1143/1143 [01:22<00:00, 13.78it/s] \n",
      " 97%|█████████▋| 1113/1143 [01:22<00:00, 149.81it/s]\n",
      "100%|██████████| 1143/1143 [01:24<00:00, 13.50it/s] \n"
     ]
    },
    {
     "name": "stdout",
     "output_type": "stream",
     "text": [
      "Collect result\n",
      "Collect result\n",
      "Collect result\n",
      "Collect result\n",
      "Collect result\n",
      "Collect result\n",
      "Collect result\n",
      "Collect result\n",
      "Collect result\n",
      "Collect result\n",
      "Collect result\n",
      "Collect result\n",
      "Collect result\n",
      "Collect result\n",
      "Collect result\n",
      "Collect result\n",
      "Collect result\n",
      "Collect result\n",
      "Collect result\n",
      "Collect result\n"
     ]
    }
   ],
   "source": [
    "importlib.reload(ImputeHiFI)\n",
    "chr_name_list=first_seen_probe_data['chr_name_list']\n",
    "cell_number=first_seen_probe_data['cell_number']\n",
    "all_cell_dna_list=first_seen_probe_data['all_cell_dna_list']\n",
    "cell_name_array=first_seen_probe_data['cell_name_array']\n",
    "All_cell_RMSD_dict=ImputeHiFI.generate_cell_cell_RMSD.get_All_cell_RMSD_dict(chr_name_list,cell_number,all_cell_dna_list,\n",
    "                               cell_name_array,kernerl_number=None)"
   ]
  },
  {
   "cell_type": "code",
   "execution_count": 87,
   "id": "e03a0c9b",
   "metadata": {
    "ExecuteTime": {
     "end_time": "2024-04-27T13:51:19.134097Z",
     "start_time": "2024-04-27T13:51:19.130000Z"
    }
   },
   "outputs": [],
   "source": [
    "first_seen_probe_data['All_cell_RMSD_dict']=All_cell_RMSD_dict"
   ]
  },
  {
   "cell_type": "markdown",
   "id": "f232d016",
   "metadata": {},
   "source": [
    "### cell cell RNA RMSD"
   ]
  },
  {
   "cell_type": "code",
   "execution_count": 90,
   "id": "2aa99a9b",
   "metadata": {
    "ExecuteTime": {
     "end_time": "2024-04-27T13:56:31.792017Z",
     "start_time": "2024-04-27T13:54:26.276785Z"
    },
    "scrolled": true
   },
   "outputs": [
    {
     "name": "stdout",
     "output_type": "stream",
     "text": [
      "v5 similar FISH\n"
     ]
    },
    {
     "data": {
      "text/plain": [
       "<module 'ImputeHiFI_Algorithm_v5' from '/mnt/disk1/scfan/program/image_project/Cai_21_bioRxiv_Process/ImputHiFi/ImputeHiFI_Algorithm_v5.py'>"
      ]
     },
     "execution_count": 90,
     "metadata": {},
     "output_type": "execute_result"
    },
    {
     "name": "stdout",
     "output_type": "stream",
     "text": [
      "chr1\n"
     ]
    },
    {
     "name": "stderr",
     "output_type": "stream",
     "text": [
      " 14%|█▍        | 165/1143 [00:04<00:20, 46.70it/s]"
     ]
    },
    {
     "name": "stdout",
     "output_type": "stream",
     "text": [
      "chr2\n"
     ]
    },
    {
     "name": "stderr",
     "output_type": "stream",
     "text": [
      " 14%|█▍        | 159/1143 [00:03<00:20, 47.88it/s]"
     ]
    },
    {
     "name": "stdout",
     "output_type": "stream",
     "text": [
      "chr3\n"
     ]
    },
    {
     "name": "stderr",
     "output_type": "stream",
     "text": [
      " 14%|█▍        | 165/1143 [00:04<00:21, 46.49it/s]"
     ]
    },
    {
     "name": "stdout",
     "output_type": "stream",
     "text": [
      "chr4\n"
     ]
    },
    {
     "name": "stderr",
     "output_type": "stream",
     "text": [
      " 63%|██████▎   | 717/1143 [00:16<00:10, 40.87it/s]"
     ]
    },
    {
     "name": "stdout",
     "output_type": "stream",
     "text": [
      "chr5\n"
     ]
    },
    {
     "name": "stderr",
     "output_type": "stream",
     "text": [
      " 31%|███▏      | 359/1143 [00:07<00:14, 55.61it/s]"
     ]
    },
    {
     "name": "stdout",
     "output_type": "stream",
     "text": [
      "chr6\n"
     ]
    },
    {
     "name": "stderr",
     "output_type": "stream",
     "text": [
      " 62%|██████▏   | 714/1143 [00:16<00:10, 41.21it/s]]"
     ]
    },
    {
     "name": "stdout",
     "output_type": "stream",
     "text": [
      "chr7\n"
     ]
    },
    {
     "name": "stderr",
     "output_type": "stream",
     "text": [
      "100%|██████████| 1143/1143 [00:25<00:00, 44.93it/s]\n",
      " 97%|█████████▋| 1108/1143 [00:24<00:00, 45.11it/s]"
     ]
    },
    {
     "name": "stdout",
     "output_type": "stream",
     "text": [
      "chr8\n"
     ]
    },
    {
     "name": "stderr",
     "output_type": "stream",
     "text": [
      "100%|██████████| 1143/1143 [00:25<00:00, 44.64it/s]\n",
      " 15%|█▍        | 167/1143 [00:04<00:21, 45.81it/s]]"
     ]
    },
    {
     "name": "stdout",
     "output_type": "stream",
     "text": [
      "chr9\n"
     ]
    },
    {
     "name": "stderr",
     "output_type": "stream",
     "text": [
      "100%|██████████| 1143/1143 [00:25<00:00, 45.19it/s]\n",
      "100%|██████████| 1143/1143 [00:25<00:00, 45.09it/s]\n",
      " 53%|█████▎    | 608/1143 [00:13<00:13, 40.73it/s]"
     ]
    },
    {
     "name": "stdout",
     "output_type": "stream",
     "text": [
      "chr10\n"
     ]
    },
    {
     "name": "stderr",
     "output_type": "stream",
     "text": [
      "100%|██████████| 1143/1143 [00:25<00:00, 44.89it/s]\n",
      " 22%|██▏       | 250/1143 [00:05<00:17, 51.95it/s]]"
     ]
    },
    {
     "name": "stdout",
     "output_type": "stream",
     "text": [
      "chr11"
     ]
    },
    {
     "name": "stderr",
     "output_type": "stream",
     "text": [
      "\r",
      " 58%|█████▊    | 667/1143 [00:14<00:11, 40.48it/s]"
     ]
    },
    {
     "name": "stdout",
     "output_type": "stream",
     "text": [
      "\n"
     ]
    },
    {
     "name": "stderr",
     "output_type": "stream",
     "text": [
      "100%|██████████| 1143/1143 [00:25<00:00, 44.93it/s]\n",
      " 17%|█▋        | 190/1143 [00:04<00:22, 41.56it/s]]"
     ]
    },
    {
     "name": "stdout",
     "output_type": "stream",
     "text": [
      "chr12\n"
     ]
    },
    {
     "name": "stderr",
     "output_type": "stream",
     "text": [
      "100%|██████████| 1143/1143 [00:25<00:00, 44.78it/s]\n",
      " 97%|█████████▋| 1114/1143 [00:24<00:00, 44.01it/s]"
     ]
    },
    {
     "name": "stdout",
     "output_type": "stream",
     "text": [
      "chr13"
     ]
    },
    {
     "name": "stderr",
     "output_type": "stream",
     "text": [
      "\r",
      " 60%|██████    | 687/1143 [00:15<00:11, 39.07it/s]"
     ]
    },
    {
     "name": "stdout",
     "output_type": "stream",
     "text": [
      "\n"
     ]
    },
    {
     "name": "stderr",
     "output_type": "stream",
     "text": [
      "100%|██████████| 1143/1143 [00:25<00:00, 45.13it/s]\n",
      " 79%|███████▉  | 903/1143 [00:20<00:04, 53.14it/s]]"
     ]
    },
    {
     "name": "stdout",
     "output_type": "stream",
     "text": [
      "chr14\n"
     ]
    },
    {
     "name": "stderr",
     "output_type": "stream",
     "text": [
      "100%|██████████| 1143/1143 [00:25<00:00, 44.87it/s]\n",
      " 73%|███████▎  | 838/1143 [00:19<00:07, 43.02it/s]]"
     ]
    },
    {
     "name": "stdout",
     "output_type": "stream",
     "text": [
      "chr15\n"
     ]
    },
    {
     "name": "stderr",
     "output_type": "stream",
     "text": [
      "100%|██████████| 1143/1143 [00:25<00:00, 44.77it/s]\n",
      " 94%|█████████▍| 1074/1143 [00:23<00:01, 45.42it/s]"
     ]
    },
    {
     "name": "stdout",
     "output_type": "stream",
     "text": [
      "chr16\n"
     ]
    },
    {
     "name": "stderr",
     "output_type": "stream",
     "text": [
      "100%|██████████| 1143/1143 [00:25<00:00, 45.00it/s]\n",
      " 55%|█████▍    | 627/1143 [00:13<00:12, 40.84it/s]]"
     ]
    },
    {
     "name": "stdout",
     "output_type": "stream",
     "text": [
      "chr17\n"
     ]
    },
    {
     "name": "stderr",
     "output_type": "stream",
     "text": [
      "100%|██████████| 1143/1143 [00:25<00:00, 45.24it/s]\n",
      " 16%|█▌        | 179/1143 [00:04<00:24, 40.08it/s]]"
     ]
    },
    {
     "name": "stdout",
     "output_type": "stream",
     "text": [
      "chr18"
     ]
    },
    {
     "name": "stderr",
     "output_type": "stream",
     "text": [
      "\r",
      " 93%|█████████▎| 1058/1143 [00:23<00:01, 42.65it/s]"
     ]
    },
    {
     "name": "stdout",
     "output_type": "stream",
     "text": [
      "\n"
     ]
    },
    {
     "name": "stderr",
     "output_type": "stream",
     "text": [
      "100%|██████████| 1143/1143 [00:25<00:00, 45.13it/s]\n",
      " 92%|█████████▏| 1054/1143 [00:23<00:01, 46.88it/s]"
     ]
    },
    {
     "name": "stdout",
     "output_type": "stream",
     "text": [
      "chr19"
     ]
    },
    {
     "name": "stderr",
     "output_type": "stream",
     "text": [
      "\r",
      " 38%|███▊      | 437/1143 [00:09<00:14, 49.32it/s]"
     ]
    },
    {
     "name": "stdout",
     "output_type": "stream",
     "text": [
      "\n"
     ]
    },
    {
     "name": "stderr",
     "output_type": "stream",
     "text": [
      "100%|██████████| 1143/1143 [00:25<00:00, 45.13it/s]\n",
      " 40%|████      | 459/1143 [00:10<00:15, 43.64it/s]]"
     ]
    },
    {
     "name": "stdout",
     "output_type": "stream",
     "text": [
      "chrX\n"
     ]
    },
    {
     "name": "stderr",
     "output_type": "stream",
     "text": [
      "100%|██████████| 1143/1143 [00:25<00:00, 44.48it/s]\n",
      "100%|██████████| 1143/1143 [00:25<00:00, 44.81it/s]\n",
      "100%|██████████| 1143/1143 [00:26<00:00, 43.38it/s]\n",
      "100%|██████████| 1143/1143 [00:27<00:00, 41.89it/s]\n",
      "100%|██████████| 1143/1143 [00:27<00:00, 42.01it/s]\n",
      "100%|██████████| 1143/1143 [00:27<00:00, 42.18it/s]\n"
     ]
    },
    {
     "name": "stdout",
     "output_type": "stream",
     "text": [
      "Collect result\n",
      "Collect result\n",
      "Collect result\n",
      "Collect result\n",
      "Collect result\n",
      "Collect result\n",
      "Collect result\n",
      "Collect result\n",
      "Collect result\n",
      "Collect result\n",
      "Collect result\n",
      "Collect result\n",
      "Collect result\n",
      "Collect result\n",
      "Collect result\n",
      "Collect result\n",
      "Collect result\n",
      "Collect result\n",
      "Collect result\n",
      "Collect result\n"
     ]
    }
   ],
   "source": [
    "importlib.reload(ImputeHiFI)\n",
    "chr_name_list=first_seen_probe_data['chr_name_list']\n",
    "cell_number=first_seen_probe_data['cell_number']\n",
    "all_cell_dna_list=first_seen_probe_data['all_cell_dna_list']\n",
    "cell_name_array=first_seen_probe_data['cell_name_array']\n",
    "All_cell_RMSD_dict=first_seen_probe_data['All_cell_RMSD_dict']\n",
    "All_cell_RNA_RMSD_dict=ImputeHiFI.generate_RNA_FISH_cell_cell_RMSD.get_RNA_FISH_cell_cell_RMSD_dict(RNA_FISH_adata,chr_name_list,cell_name_array,\n",
    "                                         All_cell_RMSD_dict,kernerl_number=None)\n",
    "first_seen_probe_data['All_cell_RNA_RMSD_dict']=All_cell_RNA_RMSD_dict"
   ]
  },
  {
   "cell_type": "markdown",
   "id": "c15f79b4",
   "metadata": {},
   "source": [
    "### generate linear impute result"
   ]
  },
  {
   "cell_type": "code",
   "execution_count": 103,
   "id": "07790ebb",
   "metadata": {
    "ExecuteTime": {
     "end_time": "2024-04-27T17:56:18.247252Z",
     "start_time": "2024-04-27T17:56:15.602218Z"
    }
   },
   "outputs": [],
   "source": [
    "first_seen_probe_data_path=os.path.join(first_seen_probe_data_dir,'first_seen_probe_data.pkl')\n",
    "first_seen_probe_data=basic.load_variable_from_pikle_file(first_seen_probe_data_path)"
   ]
  },
  {
   "cell_type": "code",
   "execution_count": 104,
   "id": "aee7035c",
   "metadata": {
    "ExecuteTime": {
     "end_time": "2024-04-27T17:56:20.977025Z",
     "start_time": "2024-04-27T17:56:18.252495Z"
    }
   },
   "outputs": [
    {
     "name": "stderr",
     "output_type": "stream",
     "text": [
      "100%|██████████| 20/20 [00:00<00:00, 4504.43it/s]\n",
      "100%|██████████| 1143/1143 [00:02<00:00, 440.77it/s]\n"
     ]
    }
   ],
   "source": [
    "cell_number=first_seen_probe_data['cell_number']\n",
    "all_cell_dna_list=first_seen_probe_data['all_cell_dna_list']\n",
    "chr_num=len(first_seen_probe_data['chr_name_list'])\n",
    "Extriming_chr_list=[]\n",
    "\n",
    "for chr_idx in tqdm(range(chr_num)):\n",
    "    for cell_idx in range(cell_number):\n",
    "        _zxys=all_cell_dna_list[cell_idx][chr_idx]\n",
    "        probe_number = _zxys.shape[0]\n",
    "        nan_ids = np.where(np.isnan(all_cell_dna_list[cell_idx][chr_idx][:,0]))[0]\n",
    "        (continue_number_list, continue_start_ids) = FillNANBasic.FillNANMean.get_NAN_continue_info(nan_ids)\n",
    "        _zxys_fill_NAN, extreaming_condition_1 = FillNANBasic.FillNANMean.fill_NAN_v1(_zxys,\n",
    "                                                                                  continue_number_list,\n",
    "                                                                                  continue_start_ids,\n",
    "                                                                                  probe_number)\n",
    "        if not extreaming_condition_1:\n",
    "            Extriming_chr_list.append(_zxys_fill_NAN)\n",
    "            break\n",
    "Impute_dna_list=copy.deepcopy(all_cell_dna_list)\n",
    "for cell_idx in tqdm(range(cell_number)):\n",
    "    for chr_idx in range(chr_num):\n",
    "        _zxys=all_cell_dna_list[cell_idx][chr_idx]\n",
    "        probe_number = _zxys.shape[0]\n",
    "        nan_ids = np.where(np.isnan(all_cell_dna_list[cell_idx][chr_idx][:,0]))[0]\n",
    "\n",
    "        if (len(nan_ids) > 0):\n",
    "            (continue_number_list, continue_start_ids) = FillNANBasic.FillNANMean.get_NAN_continue_info(nan_ids)\n",
    "\n",
    "            _zxys_fill_NAN, extreaming_condition_1 = FillNANBasic.FillNANMean.fill_NAN_v1(_zxys,\n",
    "                                                                                          continue_number_list,\n",
    "                                                                                          continue_start_ids,\n",
    "                                                                                          probe_number)\n",
    "        else:\n",
    "            _zxys_fill_NAN = _zxys\n",
    "            extreaming_condition_1 = False\n",
    "        if (extreaming_condition_1):\n",
    "            _zxys_fill_NAN=Extriming_chr_list[chr_idx]\n",
    "        Impute_dna_list[cell_idx][chr_idx]=_zxys_fill_NAN\n",
    "first_seen_probe_data['Linear_all_cell_dna_list']=Impute_dna_list\n",
    "first_seen_probe_data['Extriming_chr_list']=Extriming_chr_list"
   ]
  },
  {
   "cell_type": "markdown",
   "id": "4561e3e0",
   "metadata": {},
   "source": [
    "### store first seen probe data"
   ]
  },
  {
   "cell_type": "code",
   "execution_count": 105,
   "id": "36b4ce97",
   "metadata": {
    "ExecuteTime": {
     "end_time": "2024-04-27T17:56:29.035693Z",
     "start_time": "2024-04-27T17:56:20.979918Z"
    }
   },
   "outputs": [],
   "source": [
    "first_seen_probe_data_path=os.path.join(first_seen_probe_data_dir,'first_seen_probe_data.pkl')\n",
    "basic.store_variable_from_pikle_file(first_seen_probe_data_path,first_seen_probe_data)"
   ]
  },
  {
   "cell_type": "code",
   "execution_count": 94,
   "id": "c3b2ba42",
   "metadata": {
    "ExecuteTime": {
     "end_time": "2024-04-27T13:57:55.621045Z",
     "start_time": "2024-04-27T13:57:55.609692Z"
    }
   },
   "outputs": [
    {
     "data": {
      "text/plain": [
       "dict_keys(['chrom_ids', 'region_names', 'start_position', 'end_position', 'mid_position', 'mid_position_Mb', 'dna_zxys', 'chrom_name', 'gene_ID', 'cluster_label', 'cluster_label_name', 'all_cell_dna_list', 'chrom_ids_to_index_dict', 'chrom_index_to_ids_dict', 'chr_name_list', 'cell_name_array', 'cell_name_list', 'each_chr_missing_rate_df', 'missing_rate_df', 'chr_bin_length_dic', 'cell_type_df', 'adata_obs_df', 'spaital_dist_suffix', 'prxoimtiy_score_suffix', 'cell_number', 'chr_cell_type_center_value_df', 'All_cell_RMSD_dict', 'All_cell_RNA_RMSD_dict', 'Linear_all_cell_dna_list', 'Extriming_chr_list'])"
      ]
     },
     "execution_count": 94,
     "metadata": {},
     "output_type": "execute_result"
    }
   ],
   "source": [
    "first_seen_probe_data.keys()"
   ]
  },
  {
   "cell_type": "code",
   "execution_count": null,
   "id": "808d4bb6",
   "metadata": {},
   "outputs": [],
   "source": [
    "first_seen_probe_data_path=os.path.join(first_seen_probe_data_dir,'first_seen_probe_data.pkl')\n",
    "first_seen_probe_data=basic.load_variable_from_pikle_file(first_seen_probe_data_path)"
   ]
  },
  {
   "cell_type": "code",
   "execution_count": null,
   "id": "5a0e0e33-b285-4405-8d8c-5f7456aedf85",
   "metadata": {},
   "outputs": [],
   "source": []
  },
  {
   "cell_type": "markdown",
   "id": "24ce353f",
   "metadata": {},
   "source": [
    "## generate ImputeHiFI mode2 result"
   ]
  },
  {
   "cell_type": "markdown",
   "id": "ccfd8129",
   "metadata": {},
   "source": [
    "### proxi adata"
   ]
  },
  {
   "cell_type": "code",
   "execution_count": 205,
   "id": "4582fb0e",
   "metadata": {
    "ExecuteTime": {
     "end_time": "2024-04-26T14:53:32.711018Z",
     "start_time": "2024-04-26T14:53:27.305450Z"
    }
   },
   "outputs": [],
   "source": [
    "FISH_RMSD_name='All_cell_RNA_RMSD_dict'\n",
    "version = 'no_HiC_RNA_FISH_RMSD_not_use_mean_count'\n",
    "\n",
    "first_seen_probe_data_path=os.path.join(first_seen_probe_data_dir,'first_seen_probe_data.pkl')\n",
    "first_seen_probe_data=basic.load_variable_from_pikle_file(first_seen_probe_data_path)\n",
    "\n",
    "chr_cell_type_center_value_df=first_seen_probe_data['chr_cell_type_center_value_df']\n",
    "chr_name_list=first_seen_probe_data['chr_name_list']\n",
    "cell_number=first_seen_probe_data['cell_number']\n",
    "cell_name_list=first_seen_probe_data['cell_name_list'][0:5]\n",
    "all_cell_dna_list=first_seen_probe_data['all_cell_dna_list']\n",
    "chr_bin_length_dic=first_seen_probe_data['chr_bin_length_dic']\n",
    "chrom_index_to_ids_dict=first_seen_probe_data['chrom_index_to_ids_dict']\n",
    "adata_obs_df=first_seen_probe_data['adata_obs_df']\n",
    "spaital_dist_suffix=first_seen_probe_data['spaital_dist_suffix']\n",
    "prxoimtiy_score_suffix=first_seen_probe_data['prxoimtiy_score_suffix']\n",
    "missing_rate_df=first_seen_probe_data['missing_rate_df']\n",
    "FISH_nearest_neighbors_dic=first_seen_probe_data[FISH_RMSD_name]\n",
    "\n",
    "store_path=os.path.join(first_seen_probe_data_dir,f'first_seen_probe_data_{prxoimtiy_score_suffix}.h5ad')\n",
    "DNA_FISH_proxi_adata=sc.read(store_path)"
   ]
  },
  {
   "cell_type": "code",
   "execution_count": 223,
   "id": "da6c169b",
   "metadata": {
    "ExecuteTime": {
     "end_time": "2024-04-26T15:28:55.883240Z",
     "start_time": "2024-04-26T15:27:58.468455Z"
    },
    "scrolled": true
   },
   "outputs": [
    {
     "name": "stdout",
     "output_type": "stream",
     "text": [
      "v6 similar FISH no HiC\n"
     ]
    },
    {
     "data": {
      "text/plain": [
       "<module 'ImputeHiFI_Algorithm_v6_no_HiC' from '/mnt/disk1/scfan/program/image_project/Cai_21_bioRxiv_Process/ImputHiFi/ImputeHiFI_Algorithm_v6_no_HiC.py'>"
      ]
     },
     "execution_count": 223,
     "metadata": {},
     "output_type": "execute_result"
    },
    {
     "name": "stderr",
     "output_type": "stream",
     "text": [
      "100%|██████████| 5/5 [00:52<00:00, 10.50s/it]\n"
     ]
    },
    {
     "name": "stdout",
     "output_type": "stream",
     "text": [
      "Collect result\n"
     ]
    }
   ],
   "source": [
    "importlib.reload(ImputeHiFI_no_HiC)\n",
    "base_coef = 0.001\n",
    "HiC_weight = 0\n",
    "FISH_weight = 1\n",
    "short_range_HiC_weight_bound = 0.0\n",
    "long_range_HiC_weight_bound = 0.0\n",
    "all_range_diag_sum_weight_HiC_bound = 0.0\n",
    "short_range_diag = 0 \n",
    "initial_guess = [HiC_weight, FISH_weight]\n",
    "verbose = False\n",
    "background_cell_num = 150\n",
    "use_mean_count=0\n",
    "para = ('bg_n' + str(background_cell_num) + '_sdn' + str(short_range_diag) + '_sd' + str(\n",
    "    all_range_diag_sum_weight_HiC_bound) +\n",
    "        '_sr' + str(short_range_HiC_weight_bound) + '_lr' + str(long_range_HiC_weight_bound))\n",
    "\n",
    "store_path = os.path.join(ImputeHiFI_data_dir,str(version)+\"_proximity_score_adata_\"+str(para)+\".h5ad\")\n",
    "\n",
    "ImputeHiFI_no_HiC.ImputeHiFi_mode2_mode3.get_Impute_proximity_score(DNA_FISH_proxi_adata,missing_rate_df,cell_name_list,chr_bin_length_dic,base_coef,HiC_weight,FISH_weight,initial_guess,\n",
    "                                                                    short_range_HiC_weight_bound,long_range_HiC_weight_bound, all_range_diag_sum_weight_HiC_bound,\n",
    "                                                                    short_range_diag, background_cell_num,use_mean_count,FISH_nearest_neighbors_dic,store_path,kernerl_number=1)"
   ]
  },
  {
   "cell_type": "code",
   "execution_count": 224,
   "id": "d8008cee",
   "metadata": {
    "ExecuteTime": {
     "end_time": "2024-04-26T15:29:40.005228Z",
     "start_time": "2024-04-26T15:29:39.941969Z"
    }
   },
   "outputs": [
    {
     "name": "stdout",
     "output_type": "stream",
     "text": [
      "WARNING: Your filename has more than two extensions: ['.0_sr0', '.0_lr0', '.0', '.h5ad'].\n",
      "Only considering the two last: ['.0', '.h5ad'].\n",
      "WARNING: Your filename has more than two extensions: ['.0_sr0', '.0_lr0', '.0', '.h5ad'].\n",
      "Only considering the two last: ['.0', '.h5ad'].\n"
     ]
    }
   ],
   "source": [
    "store_path = os.path.join(ImputeHiFI_data_dir,str(version)+\"_proximity_score_adata_\"+str(para)+\".h5ad\")\n",
    "\n",
    "ImputeHiFI_prox_adata=sc.read(store_path)"
   ]
  },
  {
   "cell_type": "code",
   "execution_count": 225,
   "id": "3d08d2ea",
   "metadata": {
    "ExecuteTime": {
     "end_time": "2024-04-26T15:29:44.609432Z",
     "start_time": "2024-04-26T15:29:44.600280Z"
    }
   },
   "outputs": [
    {
     "data": {
      "text/plain": [
       "AnnData object with n_obs × n_vars = 5 × 35400\n",
       "    obs: 'cell_name', 'cell_type'\n",
       "    uns: 'parameter'"
      ]
     },
     "execution_count": 225,
     "metadata": {},
     "output_type": "execute_result"
    }
   ],
   "source": [
    "ImputeHiFI_prox_adata"
   ]
  },
  {
   "cell_type": "markdown",
   "id": "01e62823",
   "metadata": {},
   "source": [
    "### Impute 3D data"
   ]
  },
  {
   "cell_type": "code",
   "execution_count": 235,
   "id": "dc1bfe94",
   "metadata": {
    "ExecuteTime": {
     "end_time": "2024-04-26T16:02:53.899531Z",
     "start_time": "2024-04-26T16:02:53.890735Z"
    }
   },
   "outputs": [
    {
     "data": {
      "text/plain": [
       "dict_keys(['chrom_ids', 'region_names', 'start_position', 'end_position', 'mid_position', 'mid_position_Mb', 'dna_zxys', 'chrom_name', 'gene_ID', 'cluster_label', 'cluster_label_name', 'each_chr_missing_rate_df', 'missing_rate_df', 'all_cell_dna_list', 'chrom_ids_to_index_dict', 'chr_name_list', 'chr_bin_len_dict', 'chrom_index_to_ids_dict', 'cell_type_df', 'chr_bin_length_dic', 'cell_num', 'adata_obs_df', 'spaital_dist_suffix', 'prxoimtiy_score_suffix', 'cell_number', 'chr_cell_type_center_value_df', 'cell_name_array', 'All_cell_RMSD_dict', 'All_cell_RNA_RMSD_dict', 'Linear_all_cell_dna_list', 'Extriming_chr_list'])"
      ]
     },
     "execution_count": 235,
     "metadata": {},
     "output_type": "execute_result"
    }
   ],
   "source": [
    "first_seen_probe_data.keys()"
   ]
  },
  {
   "cell_type": "code",
   "execution_count": 238,
   "id": "f03a88d6",
   "metadata": {
    "ExecuteTime": {
     "end_time": "2024-04-26T16:09:21.062252Z",
     "start_time": "2024-04-26T16:08:43.849356Z"
    },
    "scrolled": true
   },
   "outputs": [
    {
     "name": "stdout",
     "output_type": "stream",
     "text": [
      "v5 similar FISH\n"
     ]
    },
    {
     "data": {
      "text/plain": [
       "<module 'ImputeHiFI_Algorithm_v5' from '/mnt/disk1/scfan/program/image_project/Cai_21_bioRxiv_Process/ImputHiFi/ImputeHiFI_Algorithm_v5.py'>"
      ]
     },
     "execution_count": 238,
     "metadata": {},
     "output_type": "execute_result"
    },
    {
     "name": "stdout",
     "output_type": "stream",
     "text": [
      "WARNING: Your filename has more than two extensions: ['.0_sr0', '.0_lr0', '.0', '.h5ad'].\n",
      "Only considering the two last: ['.0', '.h5ad'].\n",
      "WARNING: Your filename has more than two extensions: ['.0_sr0', '.0_lr0', '.0', '.h5ad'].\n",
      "Only considering the two last: ['.0', '.h5ad'].\n",
      "chr1\n"
     ]
    },
    {
     "name": "stderr",
     "output_type": "stream",
     "text": [
      "\r",
      "  0%|          | 0/5 [00:00<?, ?it/s]"
     ]
    },
    {
     "name": "stdout",
     "output_type": "stream",
     "text": [
      "chr2\n"
     ]
    },
    {
     "name": "stderr",
     "output_type": "stream",
     "text": [
      " 20%|██        | 1/5 [00:00<00:03,  1.07it/s]"
     ]
    },
    {
     "name": "stdout",
     "output_type": "stream",
     "text": [
      "chr3\n"
     ]
    },
    {
     "name": "stderr",
     "output_type": "stream",
     "text": [
      " 40%|████      | 2/5 [00:02<00:04,  1.53s/it]"
     ]
    },
    {
     "name": "stdout",
     "output_type": "stream",
     "text": [
      "chr4\n"
     ]
    },
    {
     "name": "stderr",
     "output_type": "stream",
     "text": [
      " 20%|██        | 1/5 [00:01<00:06,  1.73s/it]"
     ]
    },
    {
     "name": "stdout",
     "output_type": "stream",
     "text": [
      "chr5\n"
     ]
    },
    {
     "name": "stderr",
     "output_type": "stream",
     "text": [
      " 20%|██        | 1/5 [00:01<00:07,  1.79s/it]"
     ]
    },
    {
     "name": "stdout",
     "output_type": "stream",
     "text": [
      "chr6\n"
     ]
    },
    {
     "name": "stderr",
     "output_type": "stream",
     "text": [
      " 80%|████████  | 4/5 [00:06<00:01,  1.70s/it]"
     ]
    },
    {
     "name": "stdout",
     "output_type": "stream",
     "text": [
      "chr7\n"
     ]
    },
    {
     "name": "stderr",
     "output_type": "stream",
     "text": [
      " 80%|████████  | 4/5 [00:05<00:01,  1.41s/it]"
     ]
    },
    {
     "name": "stdout",
     "output_type": "stream",
     "text": [
      "chr8\n"
     ]
    },
    {
     "name": "stderr",
     "output_type": "stream",
     "text": [
      "100%|██████████| 5/5 [00:05<00:00,  1.16s/it]\n",
      "100%|██████████| 5/5 [00:08<00:00,  1.66s/it]\n",
      "100%|██████████| 5/5 [00:07<00:00,  1.45s/it]\n",
      "100%|██████████| 5/5 [00:05<00:00,  1.14s/it]"
     ]
    },
    {
     "name": "stdout",
     "output_type": "stream",
     "text": [
      "chr9"
     ]
    },
    {
     "name": "stderr",
     "output_type": "stream",
     "text": [
      "\n"
     ]
    },
    {
     "name": "stdout",
     "output_type": "stream",
     "text": [
      "\n"
     ]
    },
    {
     "name": "stderr",
     "output_type": "stream",
     "text": [
      " 40%|████      | 2/5 [00:02<00:03,  1.22s/it]"
     ]
    },
    {
     "name": "stdout",
     "output_type": "stream",
     "text": [
      "chr10\n"
     ]
    },
    {
     "name": "stderr",
     "output_type": "stream",
     "text": [
      "100%|██████████| 5/5 [00:06<00:00,  1.25s/it]\n",
      " 80%|████████  | 4/5 [00:05<00:01,  1.59s/it]"
     ]
    },
    {
     "name": "stdout",
     "output_type": "stream",
     "text": [
      "chr11\n"
     ]
    },
    {
     "name": "stderr",
     "output_type": "stream",
     "text": [
      "100%|██████████| 5/5 [00:06<00:00,  1.30s/it]\n",
      " 60%|██████    | 3/5 [00:05<00:03,  1.81s/it]\n"
     ]
    },
    {
     "name": "stdout",
     "output_type": "stream",
     "text": [
      "chr12\n"
     ]
    },
    {
     "name": "stderr",
     "output_type": "stream",
     "text": [
      " 60%|██████    | 3/5 [00:04<00:02,  1.33s/it]"
     ]
    },
    {
     "name": "stdout",
     "output_type": "stream",
     "text": [
      "chr13\n"
     ]
    },
    {
     "name": "stderr",
     "output_type": "stream",
     "text": [
      " 20%|██        | 1/5 [00:01<00:07,  1.83s/it]"
     ]
    },
    {
     "name": "stdout",
     "output_type": "stream",
     "text": [
      "chr14\n"
     ]
    },
    {
     "name": "stderr",
     "output_type": "stream",
     "text": [
      "100%|██████████| 5/5 [00:08<00:00,  1.72s/it]\n",
      "100%|██████████| 5/5 [00:06<00:00,  1.30s/it]\n",
      " 80%|████████  | 4/5 [00:05<00:01,  1.50s/it]"
     ]
    },
    {
     "name": "stdout",
     "output_type": "stream",
     "text": [
      "chr15\n"
     ]
    },
    {
     "name": "stderr",
     "output_type": "stream",
     "text": [
      "100%|██████████| 5/5 [00:07<00:00,  1.44s/it]\n",
      " 60%|██████    | 3/5 [00:05<00:03,  1.79s/it]"
     ]
    },
    {
     "name": "stdout",
     "output_type": "stream",
     "text": [
      "chr16\n"
     ]
    },
    {
     "name": "stderr",
     "output_type": "stream",
     "text": [
      "100%|██████████| 5/5 [00:07<00:00,  1.55s/it]\n"
     ]
    },
    {
     "name": "stdout",
     "output_type": "stream",
     "text": [
      "chr17\n"
     ]
    },
    {
     "name": "stderr",
     "output_type": "stream",
     "text": [
      " 60%|██████    | 3/5 [00:05<00:03,  1.78s/it]"
     ]
    },
    {
     "name": "stdout",
     "output_type": "stream",
     "text": [
      "chr18\n"
     ]
    },
    {
     "name": "stderr",
     "output_type": "stream",
     "text": [
      "100%|██████████| 5/5 [00:08<00:00,  1.79s/it]\n",
      "100%|██████████| 5/5 [00:07<00:00,  1.56s/it]\n",
      "  0%|          | 0/5 [00:00<?, ?it/s].63s/it]"
     ]
    },
    {
     "name": "stdout",
     "output_type": "stream",
     "text": [
      "chr19\n"
     ]
    },
    {
     "name": "stderr",
     "output_type": "stream",
     "text": [
      "100%|██████████| 5/5 [00:06<00:00,  1.28s/it]\n",
      " 40%|████      | 2/5 [00:03<00:05,  1.80s/it]"
     ]
    },
    {
     "name": "stdout",
     "output_type": "stream",
     "text": [
      "chrX\n"
     ]
    },
    {
     "name": "stderr",
     "output_type": "stream",
     "text": [
      "100%|██████████| 5/5 [00:08<00:00,  1.65s/it]\n",
      "100%|██████████| 5/5 [00:07<00:00,  1.46s/it]\n",
      "100%|██████████| 5/5 [00:07<00:00,  1.50s/it]\n",
      "100%|██████████| 5/5 [00:06<00:00,  1.31s/it]\n",
      "100%|██████████| 5/5 [00:04<00:00,  1.05it/s]\n",
      "100%|██████████| 5/5 [00:06<00:00,  1.32s/it]\n"
     ]
    },
    {
     "name": "stdout",
     "output_type": "stream",
     "text": [
      "Collect result\n",
      "Collect result\n",
      "Collect result\n",
      "Collect result\n",
      "Collect result\n",
      "Collect result\n",
      "Collect result\n",
      "Collect result\n",
      "Collect result\n",
      "Collect result\n",
      "Collect result\n",
      "Collect result\n",
      "Collect result\n",
      "Collect result\n",
      "Collect result\n",
      "Collect result\n",
      "Collect result\n",
      "Collect result\n",
      "Collect result\n",
      "Collect result\n"
     ]
    }
   ],
   "source": [
    "importlib.reload(ImputeHiFI)\n",
    "store_path = os.path.join(ImputeHiFI_data_dir,str(version)+\"_proximity_score_adata_\"+str(para)+\".h5ad\")\n",
    "ImputeHiFI_adata=sc.read(store_path)\n",
    "\n",
    "chr_cell_type_center_value_df=first_seen_probe_data['chr_cell_type_center_value_df']\n",
    "chr_name_list=first_seen_probe_data['chr_name_list']\n",
    "cell_number=first_seen_probe_data['cell_number']\n",
    "all_cell_dna_list=first_seen_probe_data['all_cell_dna_list']\n",
    "chr_bin_length_dic=first_seen_probe_data['chr_bin_length_dic']\n",
    "chrom_index_to_ids_dict=first_seen_probe_data['chrom_index_to_ids_dict']\n",
    "chrom_ids_to_index_dict=first_seen_probe_data['chrom_ids_to_index_dict']\n",
    "adata_obs_df=first_seen_probe_data['adata_obs_df']\n",
    "spaital_dist_suffix=first_seen_probe_data['spaital_dist_suffix']\n",
    "prxoimtiy_score_suffix=first_seen_probe_data['prxoimtiy_score_suffix']\n",
    "Linear_impute_all_cell_dna_list=first_seen_probe_data['Linear_all_cell_dna_list']\n",
    "\n",
    "infer_3D_type = r\"_part_loci_pair_weight_\"\n",
    "loci_pair_type = 'no_diff'\n",
    "\n",
    "store_path = os.path.join(ImputeHiFI_data_dir, version + str(para) +infer_3D_type+loci_pair_type+\"_Impute_data.pkl\")\n",
    "\n",
    "finall_optimize_all_cell_dna_list,diff_genes=ImputeHiFI.generate_impute_dna_list.get_impute_dna_list(chr_bin_length_dic, chr_name_list,ImputeHiFI_adata, \n",
    "                                                        all_cell_dna_list,Linear_impute_all_cell_dna_list,\n",
    "                                                        chr_cell_type_center_value_df, chrom_ids_to_index_dict, \n",
    "                                                        loci_pair_type,kernerl_number=None)\n",
    "\n",
    "final_ImputeHiFI_data = copy.deepcopy(first_seen_probe_data)\n",
    "final_ImputeHiFI_data['all_cell_dna_list'] = finall_optimize_all_cell_dna_list\n",
    "final_ImputeHiFI_data['ledien_diff_gene'] = diff_genes\n",
    "\n",
    "basic.store_variable_from_pikle_file(store_path,final_ImputeHiFI_data)"
   ]
  },
  {
   "cell_type": "markdown",
   "id": "32912ab8",
   "metadata": {},
   "source": [
    "### generate 3D spatial distance"
   ]
  },
  {
   "cell_type": "code",
   "execution_count": null,
   "id": "0d674e9d",
   "metadata": {},
   "outputs": [],
   "source": [
    "store_path = os.path.join(ImputeHiFI_data_dir, version + str(para) +infer_3D_type+loci_pair_type+\"_Impute_data.pkl\")\n",
    "\n",
    "final_ImputeHiFI_data=basic.load_variable_from_pikle_file(store_path)\n",
    "\n",
    "chr_name_list=first_seen_probe_data['chr_name_list']\n",
    "cell_number=first_seen_probe_data['cell_number']\n",
    "all_cell_dna_list=first_seen_probe_data['all_cell_dna_list']\n",
    "chr_bin_length_dic=first_seen_probe_data['chr_bin_length_dic']\n",
    "chrom_index_to_ids_dict=first_seen_probe_data['chrom_index_to_ids_dict']\n",
    "adata_obs_df=first_seen_probe_data['adata_obs_df']\n",
    "spaital_dist_suffix=first_seen_probe_data['spaital_dist_suffix']\n",
    "prxoimtiy_score_suffix=first_seen_probe_data['prxoimtiy_score_suffix']\n",
    "\n",
    "Impute_all_cell_dna_list=final_ImputeHiFI_data['all_cell_dna_list']\n",
    "\n",
    "\n",
    "store_path=os.path.join(ImputeHiFI_data_dir, version + str(para) +infer_3D_type+loci_pair_type+f\"_{spaital_dist_suffix}.h5ad\")\n",
    "                        \n",
    "ImputeHiFI.generate_spatial_distance_h5ad.generate_spatial_h5ad(chr_name_list,5,Impute_all_cell_dna_list,\n",
    "                              chr_bin_length_dic,chrom_index_to_ids_dict,adata_obs_df,store_path,)\n",
    "\n",
    "store_path=os.path.join(ImputeHiFI_data_dir, version + str(para) +infer_3D_type+loci_pair_type+f\"_{spaital_dist_suffix}.h5ad\")\n",
    "Impute_3D_spad_adata=sc.read(store_path)"
   ]
  },
  {
   "cell_type": "markdown",
   "id": "c1409ed9",
   "metadata": {},
   "source": [
    "### generate proximity score"
   ]
  },
  {
   "cell_type": "code",
   "execution_count": 247,
   "id": "25e399ff",
   "metadata": {
    "ExecuteTime": {
     "end_time": "2024-04-26T16:22:01.257322Z",
     "start_time": "2024-04-26T16:21:53.291180Z"
    },
    "scrolled": true
   },
   "outputs": [
    {
     "name": "stdout",
     "output_type": "stream",
     "text": [
      "v5 similar FISH\n"
     ]
    },
    {
     "data": {
      "text/plain": [
       "<module 'ImputeHiFI_Algorithm_v5' from '/mnt/disk1/scfan/program/image_project/Cai_21_bioRxiv_Process/ImputHiFi/ImputeHiFI_Algorithm_v5.py'>"
      ]
     },
     "execution_count": 247,
     "metadata": {},
     "output_type": "execute_result"
    },
    {
     "name": "stdout",
     "output_type": "stream",
     "text": [
      "WARNING: Your filename has more than two extensions: ['.0_sr0', '.0_lr0', '.0_part_loci_pair_weight_no_diff_spatial_dist', '.h5ad'].\n",
      "Only considering the two last: ['.0_part_loci_pair_weight_no_diff_spatial_dist', '.h5ad'].\n",
      "WARNING: Your filename has more than two extensions: ['.0_sr0', '.0_lr0', '.0_part_loci_pair_weight_no_diff_spatial_dist', '.h5ad'].\n",
      "Only considering the two last: ['.0_part_loci_pair_weight_no_diff_spatial_dist', '.h5ad'].\n",
      "chr1\n"
     ]
    },
    {
     "name": "stderr",
     "output_type": "stream",
     "text": [
      "\r",
      "0it [00:00, ?it/s]"
     ]
    },
    {
     "name": "stdout",
     "output_type": "stream",
     "text": [
      "chr2\n"
     ]
    },
    {
     "name": "stderr",
     "output_type": "stream",
     "text": [
      "\r",
      "0it [00:00, ?it/s]"
     ]
    },
    {
     "name": "stdout",
     "output_type": "stream",
     "text": [
      "chr3\n"
     ]
    },
    {
     "name": "stderr",
     "output_type": "stream",
     "text": [
      "\r",
      "0it [00:00, ?it/s]"
     ]
    },
    {
     "name": "stdout",
     "output_type": "stream",
     "text": [
      "chr4\n"
     ]
    },
    {
     "name": "stderr",
     "output_type": "stream",
     "text": [
      "\r",
      "0it [00:00, ?it/s]"
     ]
    },
    {
     "name": "stdout",
     "output_type": "stream",
     "text": [
      "chr5\n"
     ]
    },
    {
     "name": "stderr",
     "output_type": "stream",
     "text": [
      "5it [00:00, 44.52it/s]\n",
      "0it [00:00, ?it/s]"
     ]
    },
    {
     "name": "stdout",
     "output_type": "stream",
     "text": [
      "chr6\n"
     ]
    },
    {
     "name": "stderr",
     "output_type": "stream",
     "text": [
      "5it [00:00, 44.66it/s]\n",
      "4it [00:00, 37.58it/s]"
     ]
    },
    {
     "name": "stdout",
     "output_type": "stream",
     "text": [
      "chr7\n"
     ]
    },
    {
     "name": "stderr",
     "output_type": "stream",
     "text": [
      "\r",
      "5it [00:00, 38.94it/s]"
     ]
    },
    {
     "name": "stdout",
     "output_type": "stream",
     "text": [
      "chr8"
     ]
    },
    {
     "name": "stderr",
     "output_type": "stream",
     "text": [
      "\n"
     ]
    },
    {
     "name": "stdout",
     "output_type": "stream",
     "text": [
      "\n"
     ]
    },
    {
     "name": "stderr",
     "output_type": "stream",
     "text": [
      "5it [00:00, 43.42it/s]\n",
      "0it [00:00, ?it/s]"
     ]
    },
    {
     "name": "stdout",
     "output_type": "stream",
     "text": [
      "chr9\n"
     ]
    },
    {
     "name": "stderr",
     "output_type": "stream",
     "text": [
      "0it [00:00, ?it/s]t/s]"
     ]
    },
    {
     "name": "stdout",
     "output_type": "stream",
     "text": [
      "chr10\n"
     ]
    },
    {
     "name": "stderr",
     "output_type": "stream",
     "text": [
      "5it [00:00, 39.16it/s]\n",
      "5it [00:00, 43.40it/s]\n"
     ]
    },
    {
     "name": "stdout",
     "output_type": "stream",
     "text": [
      "chr11\n"
     ]
    },
    {
     "name": "stderr",
     "output_type": "stream",
     "text": [
      "\r",
      "0it [00:00, ?it/s]"
     ]
    },
    {
     "name": "stdout",
     "output_type": "stream",
     "text": [
      "chr12"
     ]
    },
    {
     "name": "stderr",
     "output_type": "stream",
     "text": [
      "\r",
      "5it [00:00, 41.87it/s]"
     ]
    },
    {
     "name": "stdout",
     "output_type": "stream",
     "text": [
      "\n"
     ]
    },
    {
     "name": "stderr",
     "output_type": "stream",
     "text": [
      "5it [00:00, 41.29it/s]\n",
      "5it [00:00, 38.85it/s]\n",
      "4it [00:00, 35.50it/s]"
     ]
    },
    {
     "name": "stdout",
     "output_type": "stream",
     "text": [
      "chr13\n"
     ]
    },
    {
     "name": "stderr",
     "output_type": "stream",
     "text": [
      "5it [00:00, 36.27it/s]\n",
      "5it [00:00, 43.94it/s]"
     ]
    },
    {
     "name": "stdout",
     "output_type": "stream",
     "text": [
      "chr14"
     ]
    },
    {
     "name": "stderr",
     "output_type": "stream",
     "text": [
      "5it [00:00, 43.31it/s]\n"
     ]
    },
    {
     "name": "stdout",
     "output_type": "stream",
     "text": [
      "\n"
     ]
    },
    {
     "name": "stderr",
     "output_type": "stream",
     "text": [
      "\r",
      "0it [00:00, ?it/s]"
     ]
    },
    {
     "name": "stdout",
     "output_type": "stream",
     "text": [
      "chr15"
     ]
    },
    {
     "name": "stderr",
     "output_type": "stream",
     "text": [
      "\r",
      "5it [00:00, 42.70it/s]"
     ]
    },
    {
     "name": "stdout",
     "output_type": "stream",
     "text": [
      "\n"
     ]
    },
    {
     "name": "stderr",
     "output_type": "stream",
     "text": [
      "5it [00:00, 42.05it/s]\n",
      "0it [00:00, ?it/s]"
     ]
    },
    {
     "name": "stdout",
     "output_type": "stream",
     "text": [
      "chr16\n"
     ]
    },
    {
     "name": "stderr",
     "output_type": "stream",
     "text": [
      "5it [00:00, 43.90it/s]\n"
     ]
    },
    {
     "name": "stdout",
     "output_type": "stream",
     "text": [
      "chr17\n"
     ]
    },
    {
     "name": "stderr",
     "output_type": "stream",
     "text": [
      "0it [00:00, ?it/s]t/s]"
     ]
    },
    {
     "name": "stdout",
     "output_type": "stream",
     "text": [
      "chr18"
     ]
    },
    {
     "name": "stderr",
     "output_type": "stream",
     "text": [
      "5it [00:00, 38.89it/s]\n"
     ]
    },
    {
     "name": "stdout",
     "output_type": "stream",
     "text": [
      "\n"
     ]
    },
    {
     "name": "stderr",
     "output_type": "stream",
     "text": [
      "5it [00:00, 44.76it/s]\n",
      "0it [00:00, ?it/s]"
     ]
    },
    {
     "name": "stdout",
     "output_type": "stream",
     "text": [
      "chr19\n"
     ]
    },
    {
     "name": "stderr",
     "output_type": "stream",
     "text": [
      "\r",
      "0it [00:00, ?it/s]"
     ]
    },
    {
     "name": "stdout",
     "output_type": "stream",
     "text": [
      "chrX\n"
     ]
    },
    {
     "name": "stderr",
     "output_type": "stream",
     "text": [
      "5it [00:00, 36.34it/s]\n",
      "5it [00:00, 36.15it/s]\n",
      "5it [00:00, 41.20it/s]\n",
      "5it [00:00, 44.02it/s]\n",
      "5it [00:00, 45.76it/s]\n",
      "5it [00:00, 47.10it/s]\n"
     ]
    },
    {
     "name": "stdout",
     "output_type": "stream",
     "text": [
      "WARNING: Your filename has more than two extensions: ['.0_sr0', '.0_lr0', '.0_part_loci_pair_weight_no_diff_proximity_score', '.h5ad'].\n",
      "Only considering the two last: ['.0_part_loci_pair_weight_no_diff_proximity_score', '.h5ad'].\n",
      "WARNING: Your filename has more than two extensions: ['.0_sr0', '.0_lr0', '.0_part_loci_pair_weight_no_diff_proximity_score', '.h5ad'].\n",
      "Only considering the two last: ['.0_part_loci_pair_weight_no_diff_proximity_score', '.h5ad'].\n"
     ]
    }
   ],
   "source": [
    "importlib.reload(ImputeHiFI)\n",
    "store_path=os.path.join(ImputeHiFI_data_dir, version + str(para) +infer_3D_type+loci_pair_type+f\"_{spaital_dist_suffix}.h5ad\")\n",
    "Impute_3D_spad_adata=sc.read(store_path)\n",
    "\n",
    "chr_cell_type_center_value_df=first_seen_probe_data['chr_cell_type_center_value_df']\n",
    "chr_name_list=first_seen_probe_data['chr_name_list']\n",
    "cell_number=first_seen_probe_data['cell_number']\n",
    "all_cell_dna_list=first_seen_probe_data['all_cell_dna_list']\n",
    "chr_bin_length_dic=first_seen_probe_data['chr_bin_length_dic']\n",
    "chrom_index_to_ids_dict=first_seen_probe_data['chrom_index_to_ids_dict']\n",
    "adata_obs_df=first_seen_probe_data['adata_obs_df']\n",
    "spaital_dist_suffix=first_seen_probe_data['spaital_dist_suffix']\n",
    "prxoimtiy_score_suffix=first_seen_probe_data['prxoimtiy_score_suffix']\n",
    "\n",
    "\n",
    "\n",
    "store_path=os.path.join(ImputeHiFI_data_dir, version + str(para) +infer_3D_type+loci_pair_type+f\"_{prxoimtiy_score_suffix}.h5ad\")\n",
    "ImputeHiFI.generate_proximity_score_h5ad.generate_proximity_h5ad(Impute_3D_spad_adata,chr_name_list,chr_cell_type_center_value_df,\n",
    "                              chr_bin_length_dic, adata_obs_df, store_path,\n",
    "                              kernerl_number=None)\n",
    "\n",
    "Impute_3D_proxi_adata=sc.read(store_path)"
   ]
  },
  {
   "cell_type": "markdown",
   "id": "114cf96b",
   "metadata": {},
   "source": [
    "## generate ImputeHiFI mode3 result"
   ]
  },
  {
   "cell_type": "markdown",
   "id": "f7656af0",
   "metadata": {},
   "source": [
    "### proxi adata"
   ]
  },
  {
   "cell_type": "code",
   "execution_count": 205,
   "id": "94543638",
   "metadata": {
    "ExecuteTime": {
     "end_time": "2024-04-26T14:53:32.711018Z",
     "start_time": "2024-04-26T14:53:27.305450Z"
    }
   },
   "outputs": [],
   "source": [
    "FISH_RMSD_name='All_cell_RMSD_dict'\n",
    "version = 'no_HiC_RNA_FISH_RMSD_not_use_mean_count'\n",
    "\n",
    "first_seen_probe_data_path=os.path.join(first_seen_probe_data_dir,'first_seen_probe_data.pkl')\n",
    "first_seen_probe_data=basic.load_variable_from_pikle_file(first_seen_probe_data_path)\n",
    "\n",
    "chr_cell_type_center_value_df=first_seen_probe_data['chr_cell_type_center_value_df']\n",
    "chr_name_list=first_seen_probe_data['chr_name_list']\n",
    "cell_number=first_seen_probe_data['cell_number']\n",
    "all_cell_dna_list=first_seen_probe_data['all_cell_dna_list']\n",
    "chr_bin_length_dic=first_seen_probe_data['chr_bin_length_dic']\n",
    "chrom_index_to_ids_dict=first_seen_probe_data['chrom_index_to_ids_dict']\n",
    "adata_obs_df=first_seen_probe_data['adata_obs_df']\n",
    "spaital_dist_suffix=first_seen_probe_data['spaital_dist_suffix']\n",
    "prxoimtiy_score_suffix=first_seen_probe_data['prxoimtiy_score_suffix']\n",
    "missing_rate_df=first_seen_probe_data['missing_rate_df']\n",
    "FISH_nearest_neighbors_dic=first_seen_probe_data[FISH_RMSD_name]\n",
    "\n",
    "store_path=os.path.join(first_seen_probe_data_dir,f'first_seen_probe_data_{prxoimtiy_score_suffix}.h5ad')\n",
    "DNA_FISH_proxi_adata=sc.read(store_path)"
   ]
  },
  {
   "cell_type": "code",
   "execution_count": 223,
   "id": "812b773c",
   "metadata": {
    "ExecuteTime": {
     "end_time": "2024-04-26T15:28:55.883240Z",
     "start_time": "2024-04-26T15:27:58.468455Z"
    },
    "scrolled": true
   },
   "outputs": [
    {
     "name": "stdout",
     "output_type": "stream",
     "text": [
      "v6 similar FISH no HiC\n"
     ]
    },
    {
     "data": {
      "text/plain": [
       "<module 'ImputeHiFI_Algorithm_v6_no_HiC' from '/mnt/disk1/scfan/program/image_project/Cai_21_bioRxiv_Process/ImputHiFi/ImputeHiFI_Algorithm_v6_no_HiC.py'>"
      ]
     },
     "execution_count": 223,
     "metadata": {},
     "output_type": "execute_result"
    },
    {
     "name": "stderr",
     "output_type": "stream",
     "text": [
      "100%|██████████| 5/5 [00:52<00:00, 10.50s/it]\n"
     ]
    },
    {
     "name": "stdout",
     "output_type": "stream",
     "text": [
      "Collect result\n"
     ]
    }
   ],
   "source": [
    "importlib.reload(ImputeHiFI_no_HiC)\n",
    "base_coef = 0.001\n",
    "HiC_weight = 0\n",
    "FISH_weight = 1\n",
    "short_range_HiC_weight_bound = 0.0\n",
    "long_range_HiC_weight_bound = 0.0\n",
    "all_range_diag_sum_weight_HiC_bound = 0.0\n",
    "short_range_diag = 0 \n",
    "initial_guess = [HiC_weight, FISH_weight]\n",
    "verbose = False\n",
    "background_cell_num = 150\n",
    "use_mean_count=0\n",
    "para = ('bg_n' + str(background_cell_num) + '_sdn' + str(short_range_diag) + '_sd' + str(\n",
    "    all_range_diag_sum_weight_HiC_bound) +\n",
    "        '_sr' + str(short_range_HiC_weight_bound) + '_lr' + str(long_range_HiC_weight_bound))\n",
    "\n",
    "store_path = os.path.join(ImputeHiFI_data_dir,str(version)+\"_proximity_score_adata_\"+str(para)+\".h5ad\")\n",
    "\n",
    "ImputeHiFI_no_HiC.ImputeHiFi_mode2_mode3.get_Impute_proximity_score(DNA_FISH_proxi_adata,missing_rate_df,cell_name_list,chr_bin_length_dic,base_coef,HiC_weight,FISH_weight,initial_guess,\n",
    "                                                                    short_range_HiC_weight_bound,long_range_HiC_weight_bound, all_range_diag_sum_weight_HiC_bound,\n",
    "                                                                    short_range_diag, background_cell_num,use_mean_count,FISH_nearest_neighbors_dic,store_path,kernerl_number=1)"
   ]
  },
  {
   "cell_type": "code",
   "execution_count": 224,
   "id": "cd836758",
   "metadata": {
    "ExecuteTime": {
     "end_time": "2024-04-26T15:29:40.005228Z",
     "start_time": "2024-04-26T15:29:39.941969Z"
    }
   },
   "outputs": [
    {
     "name": "stdout",
     "output_type": "stream",
     "text": [
      "WARNING: Your filename has more than two extensions: ['.0_sr0', '.0_lr0', '.0', '.h5ad'].\n",
      "Only considering the two last: ['.0', '.h5ad'].\n",
      "WARNING: Your filename has more than two extensions: ['.0_sr0', '.0_lr0', '.0', '.h5ad'].\n",
      "Only considering the two last: ['.0', '.h5ad'].\n"
     ]
    }
   ],
   "source": [
    "store_path = os.path.join(ImputeHiFI_data_dir,str(version)+\"_proximity_score_adata_\"+str(para)+\".h5ad\")\n",
    "\n",
    "ImputeHiFI_prox_adata=sc.read(store_path)"
   ]
  },
  {
   "cell_type": "code",
   "execution_count": 225,
   "id": "bc07aff9",
   "metadata": {
    "ExecuteTime": {
     "end_time": "2024-04-26T15:29:44.609432Z",
     "start_time": "2024-04-26T15:29:44.600280Z"
    }
   },
   "outputs": [
    {
     "data": {
      "text/plain": [
       "AnnData object with n_obs × n_vars = 5 × 35400\n",
       "    obs: 'cell_name', 'cell_type'\n",
       "    uns: 'parameter'"
      ]
     },
     "execution_count": 225,
     "metadata": {},
     "output_type": "execute_result"
    }
   ],
   "source": [
    "ImputeHiFI_prox_adata"
   ]
  },
  {
   "cell_type": "markdown",
   "id": "e9f25133",
   "metadata": {},
   "source": [
    "### Impute 3D data"
   ]
  },
  {
   "cell_type": "code",
   "execution_count": 235,
   "id": "c9ab80bd",
   "metadata": {
    "ExecuteTime": {
     "end_time": "2024-04-26T16:02:53.899531Z",
     "start_time": "2024-04-26T16:02:53.890735Z"
    }
   },
   "outputs": [
    {
     "data": {
      "text/plain": [
       "dict_keys(['chrom_ids', 'region_names', 'start_position', 'end_position', 'mid_position', 'mid_position_Mb', 'dna_zxys', 'chrom_name', 'gene_ID', 'cluster_label', 'cluster_label_name', 'each_chr_missing_rate_df', 'missing_rate_df', 'all_cell_dna_list', 'chrom_ids_to_index_dict', 'chr_name_list', 'chr_bin_len_dict', 'chrom_index_to_ids_dict', 'cell_type_df', 'chr_bin_length_dic', 'cell_num', 'adata_obs_df', 'spaital_dist_suffix', 'prxoimtiy_score_suffix', 'cell_number', 'chr_cell_type_center_value_df', 'cell_name_array', 'All_cell_RMSD_dict', 'All_cell_RNA_RMSD_dict', 'Linear_all_cell_dna_list', 'Extriming_chr_list'])"
      ]
     },
     "execution_count": 235,
     "metadata": {},
     "output_type": "execute_result"
    }
   ],
   "source": [
    "first_seen_probe_data.keys()"
   ]
  },
  {
   "cell_type": "code",
   "execution_count": 238,
   "id": "69eb119f",
   "metadata": {
    "ExecuteTime": {
     "end_time": "2024-04-26T16:09:21.062252Z",
     "start_time": "2024-04-26T16:08:43.849356Z"
    },
    "scrolled": true
   },
   "outputs": [
    {
     "name": "stdout",
     "output_type": "stream",
     "text": [
      "v5 similar FISH\n"
     ]
    },
    {
     "data": {
      "text/plain": [
       "<module 'ImputeHiFI_Algorithm_v5' from '/mnt/disk1/scfan/program/image_project/Cai_21_bioRxiv_Process/ImputHiFi/ImputeHiFI_Algorithm_v5.py'>"
      ]
     },
     "execution_count": 238,
     "metadata": {},
     "output_type": "execute_result"
    },
    {
     "name": "stdout",
     "output_type": "stream",
     "text": [
      "WARNING: Your filename has more than two extensions: ['.0_sr0', '.0_lr0', '.0', '.h5ad'].\n",
      "Only considering the two last: ['.0', '.h5ad'].\n",
      "WARNING: Your filename has more than two extensions: ['.0_sr0', '.0_lr0', '.0', '.h5ad'].\n",
      "Only considering the two last: ['.0', '.h5ad'].\n",
      "chr1\n"
     ]
    },
    {
     "name": "stderr",
     "output_type": "stream",
     "text": [
      "\r",
      "  0%|          | 0/5 [00:00<?, ?it/s]"
     ]
    },
    {
     "name": "stdout",
     "output_type": "stream",
     "text": [
      "chr2\n"
     ]
    },
    {
     "name": "stderr",
     "output_type": "stream",
     "text": [
      " 20%|██        | 1/5 [00:00<00:03,  1.07it/s]"
     ]
    },
    {
     "name": "stdout",
     "output_type": "stream",
     "text": [
      "chr3\n"
     ]
    },
    {
     "name": "stderr",
     "output_type": "stream",
     "text": [
      " 40%|████      | 2/5 [00:02<00:04,  1.53s/it]"
     ]
    },
    {
     "name": "stdout",
     "output_type": "stream",
     "text": [
      "chr4\n"
     ]
    },
    {
     "name": "stderr",
     "output_type": "stream",
     "text": [
      " 20%|██        | 1/5 [00:01<00:06,  1.73s/it]"
     ]
    },
    {
     "name": "stdout",
     "output_type": "stream",
     "text": [
      "chr5\n"
     ]
    },
    {
     "name": "stderr",
     "output_type": "stream",
     "text": [
      " 20%|██        | 1/5 [00:01<00:07,  1.79s/it]"
     ]
    },
    {
     "name": "stdout",
     "output_type": "stream",
     "text": [
      "chr6\n"
     ]
    },
    {
     "name": "stderr",
     "output_type": "stream",
     "text": [
      " 80%|████████  | 4/5 [00:06<00:01,  1.70s/it]"
     ]
    },
    {
     "name": "stdout",
     "output_type": "stream",
     "text": [
      "chr7\n"
     ]
    },
    {
     "name": "stderr",
     "output_type": "stream",
     "text": [
      " 80%|████████  | 4/5 [00:05<00:01,  1.41s/it]"
     ]
    },
    {
     "name": "stdout",
     "output_type": "stream",
     "text": [
      "chr8\n"
     ]
    },
    {
     "name": "stderr",
     "output_type": "stream",
     "text": [
      "100%|██████████| 5/5 [00:05<00:00,  1.16s/it]\n",
      "100%|██████████| 5/5 [00:08<00:00,  1.66s/it]\n",
      "100%|██████████| 5/5 [00:07<00:00,  1.45s/it]\n",
      "100%|██████████| 5/5 [00:05<00:00,  1.14s/it]"
     ]
    },
    {
     "name": "stdout",
     "output_type": "stream",
     "text": [
      "chr9"
     ]
    },
    {
     "name": "stderr",
     "output_type": "stream",
     "text": [
      "\n"
     ]
    },
    {
     "name": "stdout",
     "output_type": "stream",
     "text": [
      "\n"
     ]
    },
    {
     "name": "stderr",
     "output_type": "stream",
     "text": [
      " 40%|████      | 2/5 [00:02<00:03,  1.22s/it]"
     ]
    },
    {
     "name": "stdout",
     "output_type": "stream",
     "text": [
      "chr10\n"
     ]
    },
    {
     "name": "stderr",
     "output_type": "stream",
     "text": [
      "100%|██████████| 5/5 [00:06<00:00,  1.25s/it]\n",
      " 80%|████████  | 4/5 [00:05<00:01,  1.59s/it]"
     ]
    },
    {
     "name": "stdout",
     "output_type": "stream",
     "text": [
      "chr11\n"
     ]
    },
    {
     "name": "stderr",
     "output_type": "stream",
     "text": [
      "100%|██████████| 5/5 [00:06<00:00,  1.30s/it]\n",
      " 60%|██████    | 3/5 [00:05<00:03,  1.81s/it]\n"
     ]
    },
    {
     "name": "stdout",
     "output_type": "stream",
     "text": [
      "chr12\n"
     ]
    },
    {
     "name": "stderr",
     "output_type": "stream",
     "text": [
      " 60%|██████    | 3/5 [00:04<00:02,  1.33s/it]"
     ]
    },
    {
     "name": "stdout",
     "output_type": "stream",
     "text": [
      "chr13\n"
     ]
    },
    {
     "name": "stderr",
     "output_type": "stream",
     "text": [
      " 20%|██        | 1/5 [00:01<00:07,  1.83s/it]"
     ]
    },
    {
     "name": "stdout",
     "output_type": "stream",
     "text": [
      "chr14\n"
     ]
    },
    {
     "name": "stderr",
     "output_type": "stream",
     "text": [
      "100%|██████████| 5/5 [00:08<00:00,  1.72s/it]\n",
      "100%|██████████| 5/5 [00:06<00:00,  1.30s/it]\n",
      " 80%|████████  | 4/5 [00:05<00:01,  1.50s/it]"
     ]
    },
    {
     "name": "stdout",
     "output_type": "stream",
     "text": [
      "chr15\n"
     ]
    },
    {
     "name": "stderr",
     "output_type": "stream",
     "text": [
      "100%|██████████| 5/5 [00:07<00:00,  1.44s/it]\n",
      " 60%|██████    | 3/5 [00:05<00:03,  1.79s/it]"
     ]
    },
    {
     "name": "stdout",
     "output_type": "stream",
     "text": [
      "chr16\n"
     ]
    },
    {
     "name": "stderr",
     "output_type": "stream",
     "text": [
      "100%|██████████| 5/5 [00:07<00:00,  1.55s/it]\n"
     ]
    },
    {
     "name": "stdout",
     "output_type": "stream",
     "text": [
      "chr17\n"
     ]
    },
    {
     "name": "stderr",
     "output_type": "stream",
     "text": [
      " 60%|██████    | 3/5 [00:05<00:03,  1.78s/it]"
     ]
    },
    {
     "name": "stdout",
     "output_type": "stream",
     "text": [
      "chr18\n"
     ]
    },
    {
     "name": "stderr",
     "output_type": "stream",
     "text": [
      "100%|██████████| 5/5 [00:08<00:00,  1.79s/it]\n",
      "100%|██████████| 5/5 [00:07<00:00,  1.56s/it]\n",
      "  0%|          | 0/5 [00:00<?, ?it/s].63s/it]"
     ]
    },
    {
     "name": "stdout",
     "output_type": "stream",
     "text": [
      "chr19\n"
     ]
    },
    {
     "name": "stderr",
     "output_type": "stream",
     "text": [
      "100%|██████████| 5/5 [00:06<00:00,  1.28s/it]\n",
      " 40%|████      | 2/5 [00:03<00:05,  1.80s/it]"
     ]
    },
    {
     "name": "stdout",
     "output_type": "stream",
     "text": [
      "chrX\n"
     ]
    },
    {
     "name": "stderr",
     "output_type": "stream",
     "text": [
      "100%|██████████| 5/5 [00:08<00:00,  1.65s/it]\n",
      "100%|██████████| 5/5 [00:07<00:00,  1.46s/it]\n",
      "100%|██████████| 5/5 [00:07<00:00,  1.50s/it]\n",
      "100%|██████████| 5/5 [00:06<00:00,  1.31s/it]\n",
      "100%|██████████| 5/5 [00:04<00:00,  1.05it/s]\n",
      "100%|██████████| 5/5 [00:06<00:00,  1.32s/it]\n"
     ]
    },
    {
     "name": "stdout",
     "output_type": "stream",
     "text": [
      "Collect result\n",
      "Collect result\n",
      "Collect result\n",
      "Collect result\n",
      "Collect result\n",
      "Collect result\n",
      "Collect result\n",
      "Collect result\n",
      "Collect result\n",
      "Collect result\n",
      "Collect result\n",
      "Collect result\n",
      "Collect result\n",
      "Collect result\n",
      "Collect result\n",
      "Collect result\n",
      "Collect result\n",
      "Collect result\n",
      "Collect result\n",
      "Collect result\n"
     ]
    }
   ],
   "source": [
    "importlib.reload(ImputeHiFI)\n",
    "store_path = os.path.join(ImputeHiFI_data_dir,str(version)+\"_proximity_score_adata_\"+str(para)+\".h5ad\")\n",
    "ImputeHiFI_adata=sc.read(store_path)\n",
    "\n",
    "chr_cell_type_center_value_df=first_seen_probe_data['chr_cell_type_center_value_df']\n",
    "chr_name_list=first_seen_probe_data['chr_name_list']\n",
    "cell_number=first_seen_probe_data['cell_number']\n",
    "all_cell_dna_list=first_seen_probe_data['all_cell_dna_list']\n",
    "chr_bin_length_dic=first_seen_probe_data['chr_bin_length_dic']\n",
    "chrom_index_to_ids_dict=first_seen_probe_data['chrom_index_to_ids_dict']\n",
    "chrom_ids_to_index_dict=first_seen_probe_data['chrom_ids_to_index_dict']\n",
    "adata_obs_df=first_seen_probe_data['adata_obs_df']\n",
    "spaital_dist_suffix=first_seen_probe_data['spaital_dist_suffix']\n",
    "prxoimtiy_score_suffix=first_seen_probe_data['prxoimtiy_score_suffix']\n",
    "Linear_impute_all_cell_dna_list=first_seen_probe_data['Linear_all_cell_dna_list']\n",
    "\n",
    "infer_3D_type = r\"_part_loci_pair_weight_\"\n",
    "loci_pair_type = 'no_diff'\n",
    "\n",
    "store_path = os.path.join(ImputeHiFI_data_dir, version + str(para) +infer_3D_type+loci_pair_type+\"_Impute_data.pkl\")\n",
    "\n",
    "finall_optimize_all_cell_dna_list,diff_genes=ImputeHiFI.generate_impute_dna_list.get_impute_dna_list(chr_bin_length_dic, chr_name_list,ImputeHiFI_adata, \n",
    "                                                        all_cell_dna_list,Linear_impute_all_cell_dna_list,\n",
    "                                                        chr_cell_type_center_value_df, chrom_ids_to_index_dict, \n",
    "                                                        loci_pair_type,kernerl_number=None)\n",
    "\n",
    "final_ImputeHiFI_data = copy.deepcopy(first_seen_probe_data)\n",
    "final_ImputeHiFI_data['all_cell_dna_list'] = finall_optimize_all_cell_dna_list\n",
    "final_ImputeHiFI_data['ledien_diff_gene'] = diff_genes\n",
    "\n",
    "basic.store_variable_from_pikle_file(store_path,final_ImputeHiFI_data)"
   ]
  },
  {
   "cell_type": "markdown",
   "id": "be44a2e6",
   "metadata": {},
   "source": [
    "### generate 3D spatial distance"
   ]
  },
  {
   "cell_type": "code",
   "execution_count": null,
   "id": "e050b491",
   "metadata": {},
   "outputs": [],
   "source": [
    "store_path = os.path.join(ImputeHiFI_data_dir, version + str(para) +infer_3D_type+loci_pair_type+\"_Impute_data.pkl\")\n",
    "\n",
    "final_ImputeHiFI_data=basic.load_variable_from_pikle_file(store_path)\n",
    "\n",
    "chr_name_list=first_seen_probe_data['chr_name_list']\n",
    "cell_number=first_seen_probe_data['cell_number']\n",
    "all_cell_dna_list=first_seen_probe_data['all_cell_dna_list']\n",
    "chr_bin_length_dic=first_seen_probe_data['chr_bin_length_dic']\n",
    "chrom_index_to_ids_dict=first_seen_probe_data['chrom_index_to_ids_dict']\n",
    "adata_obs_df=first_seen_probe_data['adata_obs_df']\n",
    "spaital_dist_suffix=first_seen_probe_data['spaital_dist_suffix']\n",
    "prxoimtiy_score_suffix=first_seen_probe_data['prxoimtiy_score_suffix']\n",
    "\n",
    "Impute_all_cell_dna_list=final_ImputeHiFI_data['all_cell_dna_list']\n",
    "\n",
    "\n",
    "store_path=os.path.join(ImputeHiFI_data_dir, version + str(para) +infer_3D_type+loci_pair_type+f\"_{spaital_dist_suffix}.h5ad\")\n",
    "                        \n",
    "ImputeHiFI.generate_spatial_distance_h5ad.generate_spatial_h5ad(chr_name_list,5,Impute_all_cell_dna_list,\n",
    "                              chr_bin_length_dic,chrom_index_to_ids_dict,adata_obs_df,store_path,)\n",
    "\n",
    "store_path=os.path.join(ImputeHiFI_data_dir, version + str(para) +infer_3D_type+loci_pair_type+f\"_{spaital_dist_suffix}.h5ad\")\n",
    "Impute_3D_spad_adata=sc.read(store_path)"
   ]
  },
  {
   "cell_type": "markdown",
   "id": "5536a0c4",
   "metadata": {},
   "source": [
    "### generate proximity score"
   ]
  },
  {
   "cell_type": "code",
   "execution_count": 247,
   "id": "f4f44fd5",
   "metadata": {
    "ExecuteTime": {
     "end_time": "2024-04-26T16:22:01.257322Z",
     "start_time": "2024-04-26T16:21:53.291180Z"
    },
    "scrolled": true
   },
   "outputs": [
    {
     "name": "stdout",
     "output_type": "stream",
     "text": [
      "v5 similar FISH\n"
     ]
    },
    {
     "data": {
      "text/plain": [
       "<module 'ImputeHiFI_Algorithm_v5' from '/mnt/disk1/scfan/program/image_project/Cai_21_bioRxiv_Process/ImputHiFi/ImputeHiFI_Algorithm_v5.py'>"
      ]
     },
     "execution_count": 247,
     "metadata": {},
     "output_type": "execute_result"
    },
    {
     "name": "stdout",
     "output_type": "stream",
     "text": [
      "WARNING: Your filename has more than two extensions: ['.0_sr0', '.0_lr0', '.0_part_loci_pair_weight_no_diff_spatial_dist', '.h5ad'].\n",
      "Only considering the two last: ['.0_part_loci_pair_weight_no_diff_spatial_dist', '.h5ad'].\n",
      "WARNING: Your filename has more than two extensions: ['.0_sr0', '.0_lr0', '.0_part_loci_pair_weight_no_diff_spatial_dist', '.h5ad'].\n",
      "Only considering the two last: ['.0_part_loci_pair_weight_no_diff_spatial_dist', '.h5ad'].\n",
      "chr1\n"
     ]
    },
    {
     "name": "stderr",
     "output_type": "stream",
     "text": [
      "\r",
      "0it [00:00, ?it/s]"
     ]
    },
    {
     "name": "stdout",
     "output_type": "stream",
     "text": [
      "chr2\n"
     ]
    },
    {
     "name": "stderr",
     "output_type": "stream",
     "text": [
      "\r",
      "0it [00:00, ?it/s]"
     ]
    },
    {
     "name": "stdout",
     "output_type": "stream",
     "text": [
      "chr3\n"
     ]
    },
    {
     "name": "stderr",
     "output_type": "stream",
     "text": [
      "\r",
      "0it [00:00, ?it/s]"
     ]
    },
    {
     "name": "stdout",
     "output_type": "stream",
     "text": [
      "chr4\n"
     ]
    },
    {
     "name": "stderr",
     "output_type": "stream",
     "text": [
      "\r",
      "0it [00:00, ?it/s]"
     ]
    },
    {
     "name": "stdout",
     "output_type": "stream",
     "text": [
      "chr5\n"
     ]
    },
    {
     "name": "stderr",
     "output_type": "stream",
     "text": [
      "5it [00:00, 44.52it/s]\n",
      "0it [00:00, ?it/s]"
     ]
    },
    {
     "name": "stdout",
     "output_type": "stream",
     "text": [
      "chr6\n"
     ]
    },
    {
     "name": "stderr",
     "output_type": "stream",
     "text": [
      "5it [00:00, 44.66it/s]\n",
      "4it [00:00, 37.58it/s]"
     ]
    },
    {
     "name": "stdout",
     "output_type": "stream",
     "text": [
      "chr7\n"
     ]
    },
    {
     "name": "stderr",
     "output_type": "stream",
     "text": [
      "\r",
      "5it [00:00, 38.94it/s]"
     ]
    },
    {
     "name": "stdout",
     "output_type": "stream",
     "text": [
      "chr8"
     ]
    },
    {
     "name": "stderr",
     "output_type": "stream",
     "text": [
      "\n"
     ]
    },
    {
     "name": "stdout",
     "output_type": "stream",
     "text": [
      "\n"
     ]
    },
    {
     "name": "stderr",
     "output_type": "stream",
     "text": [
      "5it [00:00, 43.42it/s]\n",
      "0it [00:00, ?it/s]"
     ]
    },
    {
     "name": "stdout",
     "output_type": "stream",
     "text": [
      "chr9\n"
     ]
    },
    {
     "name": "stderr",
     "output_type": "stream",
     "text": [
      "0it [00:00, ?it/s]t/s]"
     ]
    },
    {
     "name": "stdout",
     "output_type": "stream",
     "text": [
      "chr10\n"
     ]
    },
    {
     "name": "stderr",
     "output_type": "stream",
     "text": [
      "5it [00:00, 39.16it/s]\n",
      "5it [00:00, 43.40it/s]\n"
     ]
    },
    {
     "name": "stdout",
     "output_type": "stream",
     "text": [
      "chr11\n"
     ]
    },
    {
     "name": "stderr",
     "output_type": "stream",
     "text": [
      "\r",
      "0it [00:00, ?it/s]"
     ]
    },
    {
     "name": "stdout",
     "output_type": "stream",
     "text": [
      "chr12"
     ]
    },
    {
     "name": "stderr",
     "output_type": "stream",
     "text": [
      "\r",
      "5it [00:00, 41.87it/s]"
     ]
    },
    {
     "name": "stdout",
     "output_type": "stream",
     "text": [
      "\n"
     ]
    },
    {
     "name": "stderr",
     "output_type": "stream",
     "text": [
      "5it [00:00, 41.29it/s]\n",
      "5it [00:00, 38.85it/s]\n",
      "4it [00:00, 35.50it/s]"
     ]
    },
    {
     "name": "stdout",
     "output_type": "stream",
     "text": [
      "chr13\n"
     ]
    },
    {
     "name": "stderr",
     "output_type": "stream",
     "text": [
      "5it [00:00, 36.27it/s]\n",
      "5it [00:00, 43.94it/s]"
     ]
    },
    {
     "name": "stdout",
     "output_type": "stream",
     "text": [
      "chr14"
     ]
    },
    {
     "name": "stderr",
     "output_type": "stream",
     "text": [
      "5it [00:00, 43.31it/s]\n"
     ]
    },
    {
     "name": "stdout",
     "output_type": "stream",
     "text": [
      "\n"
     ]
    },
    {
     "name": "stderr",
     "output_type": "stream",
     "text": [
      "\r",
      "0it [00:00, ?it/s]"
     ]
    },
    {
     "name": "stdout",
     "output_type": "stream",
     "text": [
      "chr15"
     ]
    },
    {
     "name": "stderr",
     "output_type": "stream",
     "text": [
      "\r",
      "5it [00:00, 42.70it/s]"
     ]
    },
    {
     "name": "stdout",
     "output_type": "stream",
     "text": [
      "\n"
     ]
    },
    {
     "name": "stderr",
     "output_type": "stream",
     "text": [
      "5it [00:00, 42.05it/s]\n",
      "0it [00:00, ?it/s]"
     ]
    },
    {
     "name": "stdout",
     "output_type": "stream",
     "text": [
      "chr16\n"
     ]
    },
    {
     "name": "stderr",
     "output_type": "stream",
     "text": [
      "5it [00:00, 43.90it/s]\n"
     ]
    },
    {
     "name": "stdout",
     "output_type": "stream",
     "text": [
      "chr17\n"
     ]
    },
    {
     "name": "stderr",
     "output_type": "stream",
     "text": [
      "0it [00:00, ?it/s]t/s]"
     ]
    },
    {
     "name": "stdout",
     "output_type": "stream",
     "text": [
      "chr18"
     ]
    },
    {
     "name": "stderr",
     "output_type": "stream",
     "text": [
      "5it [00:00, 38.89it/s]\n"
     ]
    },
    {
     "name": "stdout",
     "output_type": "stream",
     "text": [
      "\n"
     ]
    },
    {
     "name": "stderr",
     "output_type": "stream",
     "text": [
      "5it [00:00, 44.76it/s]\n",
      "0it [00:00, ?it/s]"
     ]
    },
    {
     "name": "stdout",
     "output_type": "stream",
     "text": [
      "chr19\n"
     ]
    },
    {
     "name": "stderr",
     "output_type": "stream",
     "text": [
      "\r",
      "0it [00:00, ?it/s]"
     ]
    },
    {
     "name": "stdout",
     "output_type": "stream",
     "text": [
      "chrX\n"
     ]
    },
    {
     "name": "stderr",
     "output_type": "stream",
     "text": [
      "5it [00:00, 36.34it/s]\n",
      "5it [00:00, 36.15it/s]\n",
      "5it [00:00, 41.20it/s]\n",
      "5it [00:00, 44.02it/s]\n",
      "5it [00:00, 45.76it/s]\n",
      "5it [00:00, 47.10it/s]\n"
     ]
    },
    {
     "name": "stdout",
     "output_type": "stream",
     "text": [
      "WARNING: Your filename has more than two extensions: ['.0_sr0', '.0_lr0', '.0_part_loci_pair_weight_no_diff_proximity_score', '.h5ad'].\n",
      "Only considering the two last: ['.0_part_loci_pair_weight_no_diff_proximity_score', '.h5ad'].\n",
      "WARNING: Your filename has more than two extensions: ['.0_sr0', '.0_lr0', '.0_part_loci_pair_weight_no_diff_proximity_score', '.h5ad'].\n",
      "Only considering the two last: ['.0_part_loci_pair_weight_no_diff_proximity_score', '.h5ad'].\n"
     ]
    }
   ],
   "source": [
    "importlib.reload(ImputeHiFI)\n",
    "store_path=os.path.join(ImputeHiFI_data_dir, version + str(para) +infer_3D_type+loci_pair_type+f\"_{spaital_dist_suffix}.h5ad\")\n",
    "Impute_3D_spad_adata=sc.read(store_path)\n",
    "\n",
    "chr_cell_type_center_value_df=first_seen_probe_data['chr_cell_type_center_value_df']\n",
    "chr_name_list=first_seen_probe_data['chr_name_list']\n",
    "cell_number=first_seen_probe_data['cell_number']\n",
    "all_cell_dna_list=first_seen_probe_data['all_cell_dna_list']\n",
    "chr_bin_length_dic=first_seen_probe_data['chr_bin_length_dic']\n",
    "chrom_index_to_ids_dict=first_seen_probe_data['chrom_index_to_ids_dict']\n",
    "adata_obs_df=first_seen_probe_data['adata_obs_df']\n",
    "spaital_dist_suffix=first_seen_probe_data['spaital_dist_suffix']\n",
    "prxoimtiy_score_suffix=first_seen_probe_data['prxoimtiy_score_suffix']\n",
    "\n",
    "\n",
    "\n",
    "store_path=os.path.join(ImputeHiFI_data_dir, version + str(para) +infer_3D_type+loci_pair_type+f\"_{prxoimtiy_score_suffix}.h5ad\")\n",
    "ImputeHiFI.generate_proximity_score_h5ad.generate_proximity_h5ad(Impute_3D_spad_adata,chr_name_list,chr_cell_type_center_value_df,\n",
    "                              chr_bin_length_dic, adata_obs_df, store_path,\n",
    "                              kernerl_number=None)\n",
    "\n",
    "Impute_3D_proxi_adata=sc.read(store_path)"
   ]
  },
  {
   "cell_type": "markdown",
   "id": "dc616154-2f8f-4752-a446-27e2bc7967ad",
   "metadata": {},
   "source": [
    "## generate Linear Impute"
   ]
  },
  {
   "cell_type": "code",
   "execution_count": null,
   "id": "5c8fd1ac-9fd0-494d-91fb-c9f1ec6616ff",
   "metadata": {},
   "outputs": [],
   "source": [
    "Linear_impute_data_dir=os.path.join(first_seen_probe_data_dir,'Linear_Impute')\n",
    "basic.recursive_mkdir(Linear_impute_data_dir)\n",
    "first_seen_probe_data_path=os.path.join(first_seen_probe_data_dir,'first_seen_probe_data.pkl')\n",
    "first_seen_probe_data=basic.load_variable_from_pikle_file(first_seen_probe_data_path)\n",
    "\n",
    "Linear_data=copy.deepcopy(first_seen_probe_data)\n",
    "\n",
    "Linear_data['all_cell_dna_list']=Linear_data['Linear_all_cell_dna_list']\n",
    "\n",
    "Linear_impute_data_path=os.path.join(Linear_impute_data_dir,'Impute_data.pkl')\n",
    "basic.store_variable_from_pikle_file(Linear_impute_data_path,Linear_data)\n",
    "\n"
   ]
  },
  {
   "cell_type": "code",
   "execution_count": null,
   "id": "c9e4c7b2-9975-4422-a31f-d649ebaa40a6",
   "metadata": {},
   "outputs": [],
   "source": [
    "store_path =os.path.join(Linear_impute_data_dir,'Impute_data.pkl')\n",
    "\n",
    "final_Impute_data=basic.load_variable_from_pikle_file(store_path)\n",
    "\n",
    "chr_name_list=first_seen_probe_data['chr_name_list']\n",
    "cell_number=first_seen_probe_data['cell_number']\n",
    "all_cell_dna_list=first_seen_probe_data['all_cell_dna_list']\n",
    "chr_bin_length_dic=first_seen_probe_data['chr_bin_length_dic']\n",
    "chrom_index_to_ids_dict=first_seen_probe_data['chrom_index_to_ids_dict']\n",
    "adata_obs_df=first_seen_probe_data['adata_obs_df']\n",
    "spaital_dist_suffix=first_seen_probe_data['spaital_dist_suffix']\n",
    "prxoimtiy_score_suffix=first_seen_probe_data['prxoimtiy_score_suffix']\n",
    "\n",
    "Impute_all_cell_dna_list=final_Impute_data['all_cell_dna_list']\n",
    "\n",
    "\n",
    "store_path=os.path.join(Linear_impute_data_dir,f\"{spaital_dist_suffix}.h5ad\")\n",
    "                        \n",
    "ImputeHiFI.generate_spatial_distance_h5ad.generate_spatial_h5ad(chr_name_list,cell_number,Impute_all_cell_dna_list,\n",
    "                              chr_bin_length_dic,chrom_index_to_ids_dict,adata_obs_df,store_path,)\n",
    "\n",
    "store_path=os.path.join(Linear_impute_data_dir,f\"{spaital_dist_suffix}.h5ad\")\n",
    "Impute_3D_spad_adata=sc.read(store_path)"
   ]
  },
  {
   "cell_type": "code",
   "execution_count": null,
   "id": "72d6c399-0aaf-49ea-a5b7-b21a015dadf9",
   "metadata": {},
   "outputs": [],
   "source": [
    "importlib.reload(ImputeHiFI)\n",
    "store_path=os.path.join(Linear_impute_data_dir,f\"{spaital_dist_suffix}.h5ad\")\n",
    "Impute_3D_spad_adata=sc.read(store_path)\n",
    "\n",
    "chr_cell_type_center_value_df=first_seen_probe_data['chr_cell_type_center_value_df']\n",
    "chr_name_list=first_seen_probe_data['chr_name_list']\n",
    "cell_number=first_seen_probe_data['cell_number']\n",
    "all_cell_dna_list=first_seen_probe_data['all_cell_dna_list']\n",
    "chr_bin_length_dic=first_seen_probe_data['chr_bin_length_dic']\n",
    "chrom_index_to_ids_dict=first_seen_probe_data['chrom_index_to_ids_dict']\n",
    "adata_obs_df=first_seen_probe_data['adata_obs_df']\n",
    "spaital_dist_suffix=first_seen_probe_data['spaital_dist_suffix']\n",
    "prxoimtiy_score_suffix=first_seen_probe_data['prxoimtiy_score_suffix']\n",
    "\n",
    "\n",
    "\n",
    "store_path=os.path.join(Linear_impute_data_dir, f\"{prxoimtiy_score_suffix}.h5ad\")\n",
    "ImputeHiFI.generate_proximity_score_h5ad.generate_proximity_h5ad(Impute_3D_spad_adata,chr_name_list,chr_cell_type_center_value_df,\n",
    "                              chr_bin_length_dic, adata_obs_df, store_path,\n",
    "                              kernerl_number=None)\n",
    "\n",
    "Impute_3D_proxi_adata=sc.read(store_path)"
   ]
  },
  {
   "cell_type": "markdown",
   "id": "5506a50c-6dbb-4ec6-95e9-53354e5212f7",
   "metadata": {},
   "source": [
    "## generate ImputeHiFI mode 1 result"
   ]
  },
  {
   "cell_type": "code",
   "execution_count": null,
   "id": "d457da21-96a9-4d27-818a-267661f30dce",
   "metadata": {},
   "outputs": [],
   "source": [
    "command=\"python ImputeHiFi_mode_1_step_one_prepare_data_multiprocess_spatial_dist_proximity_score_bin_pair_df.py\"\n",
    "!{command}\n",
    "\n",
    "command=\"python ImputeHiFi_mode_1_step_two_calculate_cell_cell_RMSD.py\"\n",
    "!{command}\n",
    "\n",
    "command=\"python ImputeHiFi_mode_1_step_two_calculate_cell_cell_RNA_FISH_RMSD.py\"\n",
    "!{command}\n",
    "\n",
    "\n",
    "command=\"python ImputeHiFi_mode_1_step_three_Impute_multiprocess_script.py\"\n",
    "!{command}\n",
    "\n",
    "command=\"python ImputeHiFi_mode_1_step_four_infer3D_part_loci_pair_weight_multiprocess_script.py\"\n",
    "!{command}"
   ]
  }
 ],
 "metadata": {
  "kernelspec": {
   "display_name": "Python 3 (ipykernel)",
   "language": "python",
   "name": "python3"
  },
  "language_info": {
   "codemirror_mode": {
    "name": "ipython",
    "version": 3
   },
   "file_extension": ".py",
   "mimetype": "text/x-python",
   "name": "python",
   "nbconvert_exporter": "python",
   "pygments_lexer": "ipython3",
   "version": "3.11.5"
  },
  "toc": {
   "base_numbering": 1,
   "nav_menu": {},
   "number_sections": true,
   "sideBar": true,
   "skip_h1_title": false,
   "title_cell": "Table of Contents",
   "title_sidebar": "Contents",
   "toc_cell": false,
   "toc_position": {
    "height": "calc(100% - 180px)",
    "left": "10px",
    "top": "150px",
    "width": "304.8px"
   },
   "toc_section_display": true,
   "toc_window_display": true
  },
  "widgets": {
   "application/vnd.jupyter.widget-state+json": {
    "state": {},
    "version_major": 2,
    "version_minor": 0
   }
  }
 },
 "nbformat": 4,
 "nbformat_minor": 5
}
